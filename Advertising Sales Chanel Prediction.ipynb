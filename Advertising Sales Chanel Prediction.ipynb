{
 "cells": [
  {
   "cell_type": "code",
   "execution_count": 1,
   "id": "ec675b4d",
   "metadata": {},
   "outputs": [],
   "source": [
    "import numpy as np\n",
    "import pandas as pd\n",
    "import matplotlib.pyplot as plt\n",
    "import seaborn as sns\n",
    "\n",
    "import warnings\n",
    "warnings.filterwarnings('ignore')"
   ]
  },
  {
   "cell_type": "code",
   "execution_count": 2,
   "id": "553babff",
   "metadata": {},
   "outputs": [],
   "source": [
    "sns.set_style('darkgrid')\n",
    "plt.rcParams['font.size'] = 15\n",
    "plt.rcParams['figure.figsize'] = (10,7)\n",
    "plt.rcParams['figure.facecolor'] = '#FFE554'"
   ]
  },
  {
   "cell_type": "code",
   "execution_count": 3,
   "id": "76e7dc01",
   "metadata": {},
   "outputs": [],
   "source": [
    "df = pd.read_csv('https://raw.githubusercontent.com/dsrscientist/DSData/master/Advertising.csv')"
   ]
  },
  {
   "cell_type": "code",
   "execution_count": 4,
   "id": "5a336d59",
   "metadata": {},
   "outputs": [
    {
     "data": {
      "text/html": [
       "<div>\n",
       "<style scoped>\n",
       "    .dataframe tbody tr th:only-of-type {\n",
       "        vertical-align: middle;\n",
       "    }\n",
       "\n",
       "    .dataframe tbody tr th {\n",
       "        vertical-align: top;\n",
       "    }\n",
       "\n",
       "    .dataframe thead th {\n",
       "        text-align: right;\n",
       "    }\n",
       "</style>\n",
       "<table border=\"1\" class=\"dataframe\">\n",
       "  <thead>\n",
       "    <tr style=\"text-align: right;\">\n",
       "      <th></th>\n",
       "      <th>Unnamed: 0</th>\n",
       "      <th>TV</th>\n",
       "      <th>radio</th>\n",
       "      <th>newspaper</th>\n",
       "      <th>sales</th>\n",
       "    </tr>\n",
       "  </thead>\n",
       "  <tbody>\n",
       "    <tr>\n",
       "      <th>0</th>\n",
       "      <td>1</td>\n",
       "      <td>230.1</td>\n",
       "      <td>37.8</td>\n",
       "      <td>69.2</td>\n",
       "      <td>22.1</td>\n",
       "    </tr>\n",
       "    <tr>\n",
       "      <th>1</th>\n",
       "      <td>2</td>\n",
       "      <td>44.5</td>\n",
       "      <td>39.3</td>\n",
       "      <td>45.1</td>\n",
       "      <td>10.4</td>\n",
       "    </tr>\n",
       "    <tr>\n",
       "      <th>2</th>\n",
       "      <td>3</td>\n",
       "      <td>17.2</td>\n",
       "      <td>45.9</td>\n",
       "      <td>69.3</td>\n",
       "      <td>9.3</td>\n",
       "    </tr>\n",
       "    <tr>\n",
       "      <th>3</th>\n",
       "      <td>4</td>\n",
       "      <td>151.5</td>\n",
       "      <td>41.3</td>\n",
       "      <td>58.5</td>\n",
       "      <td>18.5</td>\n",
       "    </tr>\n",
       "    <tr>\n",
       "      <th>4</th>\n",
       "      <td>5</td>\n",
       "      <td>180.8</td>\n",
       "      <td>10.8</td>\n",
       "      <td>58.4</td>\n",
       "      <td>12.9</td>\n",
       "    </tr>\n",
       "  </tbody>\n",
       "</table>\n",
       "</div>"
      ],
      "text/plain": [
       "   Unnamed: 0     TV  radio  newspaper  sales\n",
       "0           1  230.1   37.8       69.2   22.1\n",
       "1           2   44.5   39.3       45.1   10.4\n",
       "2           3   17.2   45.9       69.3    9.3\n",
       "3           4  151.5   41.3       58.5   18.5\n",
       "4           5  180.8   10.8       58.4   12.9"
      ]
     },
     "execution_count": 4,
     "metadata": {},
     "output_type": "execute_result"
    }
   ],
   "source": [
    "df.head()"
   ]
  },
  {
   "cell_type": "code",
   "execution_count": 5,
   "id": "c7170cba",
   "metadata": {},
   "outputs": [
    {
     "data": {
      "text/html": [
       "<div>\n",
       "<style scoped>\n",
       "    .dataframe tbody tr th:only-of-type {\n",
       "        vertical-align: middle;\n",
       "    }\n",
       "\n",
       "    .dataframe tbody tr th {\n",
       "        vertical-align: top;\n",
       "    }\n",
       "\n",
       "    .dataframe thead th {\n",
       "        text-align: right;\n",
       "    }\n",
       "</style>\n",
       "<table border=\"1\" class=\"dataframe\">\n",
       "  <thead>\n",
       "    <tr style=\"text-align: right;\">\n",
       "      <th></th>\n",
       "      <th>Unnamed: 0</th>\n",
       "      <th>TV</th>\n",
       "      <th>radio</th>\n",
       "      <th>newspaper</th>\n",
       "      <th>sales</th>\n",
       "    </tr>\n",
       "  </thead>\n",
       "  <tbody>\n",
       "    <tr>\n",
       "      <th>195</th>\n",
       "      <td>196</td>\n",
       "      <td>38.2</td>\n",
       "      <td>3.7</td>\n",
       "      <td>13.8</td>\n",
       "      <td>7.6</td>\n",
       "    </tr>\n",
       "    <tr>\n",
       "      <th>196</th>\n",
       "      <td>197</td>\n",
       "      <td>94.2</td>\n",
       "      <td>4.9</td>\n",
       "      <td>8.1</td>\n",
       "      <td>9.7</td>\n",
       "    </tr>\n",
       "    <tr>\n",
       "      <th>197</th>\n",
       "      <td>198</td>\n",
       "      <td>177.0</td>\n",
       "      <td>9.3</td>\n",
       "      <td>6.4</td>\n",
       "      <td>12.8</td>\n",
       "    </tr>\n",
       "    <tr>\n",
       "      <th>198</th>\n",
       "      <td>199</td>\n",
       "      <td>283.6</td>\n",
       "      <td>42.0</td>\n",
       "      <td>66.2</td>\n",
       "      <td>25.5</td>\n",
       "    </tr>\n",
       "    <tr>\n",
       "      <th>199</th>\n",
       "      <td>200</td>\n",
       "      <td>232.1</td>\n",
       "      <td>8.6</td>\n",
       "      <td>8.7</td>\n",
       "      <td>13.4</td>\n",
       "    </tr>\n",
       "  </tbody>\n",
       "</table>\n",
       "</div>"
      ],
      "text/plain": [
       "     Unnamed: 0     TV  radio  newspaper  sales\n",
       "195         196   38.2    3.7       13.8    7.6\n",
       "196         197   94.2    4.9        8.1    9.7\n",
       "197         198  177.0    9.3        6.4   12.8\n",
       "198         199  283.6   42.0       66.2   25.5\n",
       "199         200  232.1    8.6        8.7   13.4"
      ]
     },
     "execution_count": 5,
     "metadata": {},
     "output_type": "execute_result"
    }
   ],
   "source": [
    "df.tail()"
   ]
  },
  {
   "cell_type": "code",
   "execution_count": 6,
   "id": "d8e6e6a5",
   "metadata": {},
   "outputs": [
    {
     "data": {
      "text/plain": [
       "(200, 5)"
      ]
     },
     "execution_count": 6,
     "metadata": {},
     "output_type": "execute_result"
    }
   ],
   "source": [
    "df.shape # this datset only has 200 rows and 5 columns"
   ]
  },
  {
   "cell_type": "code",
   "execution_count": 7,
   "id": "b8fcf792",
   "metadata": {},
   "outputs": [
    {
     "data": {
      "text/plain": [
       "Unnamed: 0    0\n",
       "TV            0\n",
       "radio         0\n",
       "newspaper     0\n",
       "sales         0\n",
       "dtype: int64"
      ]
     },
     "execution_count": 7,
     "metadata": {},
     "output_type": "execute_result"
    }
   ],
   "source": [
    "# Checking null values\n",
    "df.isnull().sum()\n",
    "\n",
    "# There are no null values"
   ]
  },
  {
   "cell_type": "code",
   "execution_count": 8,
   "id": "0fdb20b1",
   "metadata": {},
   "outputs": [],
   "source": [
    "# we can see there is no proper name for Unnamed:0, we will change the column name\n",
    "df.rename(columns={'Unnamed: 0':'ID'},inplace=True)"
   ]
  },
  {
   "cell_type": "code",
   "execution_count": 9,
   "id": "3278d6e5",
   "metadata": {},
   "outputs": [
    {
     "data": {
      "text/html": [
       "<div>\n",
       "<style scoped>\n",
       "    .dataframe tbody tr th:only-of-type {\n",
       "        vertical-align: middle;\n",
       "    }\n",
       "\n",
       "    .dataframe tbody tr th {\n",
       "        vertical-align: top;\n",
       "    }\n",
       "\n",
       "    .dataframe thead th {\n",
       "        text-align: right;\n",
       "    }\n",
       "</style>\n",
       "<table border=\"1\" class=\"dataframe\">\n",
       "  <thead>\n",
       "    <tr style=\"text-align: right;\">\n",
       "      <th></th>\n",
       "      <th>ID</th>\n",
       "      <th>TV</th>\n",
       "      <th>radio</th>\n",
       "      <th>newspaper</th>\n",
       "      <th>sales</th>\n",
       "    </tr>\n",
       "  </thead>\n",
       "  <tbody>\n",
       "    <tr>\n",
       "      <th>0</th>\n",
       "      <td>1</td>\n",
       "      <td>230.1</td>\n",
       "      <td>37.8</td>\n",
       "      <td>69.2</td>\n",
       "      <td>22.1</td>\n",
       "    </tr>\n",
       "    <tr>\n",
       "      <th>1</th>\n",
       "      <td>2</td>\n",
       "      <td>44.5</td>\n",
       "      <td>39.3</td>\n",
       "      <td>45.1</td>\n",
       "      <td>10.4</td>\n",
       "    </tr>\n",
       "    <tr>\n",
       "      <th>2</th>\n",
       "      <td>3</td>\n",
       "      <td>17.2</td>\n",
       "      <td>45.9</td>\n",
       "      <td>69.3</td>\n",
       "      <td>9.3</td>\n",
       "    </tr>\n",
       "    <tr>\n",
       "      <th>3</th>\n",
       "      <td>4</td>\n",
       "      <td>151.5</td>\n",
       "      <td>41.3</td>\n",
       "      <td>58.5</td>\n",
       "      <td>18.5</td>\n",
       "    </tr>\n",
       "    <tr>\n",
       "      <th>4</th>\n",
       "      <td>5</td>\n",
       "      <td>180.8</td>\n",
       "      <td>10.8</td>\n",
       "      <td>58.4</td>\n",
       "      <td>12.9</td>\n",
       "    </tr>\n",
       "    <tr>\n",
       "      <th>5</th>\n",
       "      <td>6</td>\n",
       "      <td>8.7</td>\n",
       "      <td>48.9</td>\n",
       "      <td>75.0</td>\n",
       "      <td>7.2</td>\n",
       "    </tr>\n",
       "  </tbody>\n",
       "</table>\n",
       "</div>"
      ],
      "text/plain": [
       "   ID     TV  radio  newspaper  sales\n",
       "0   1  230.1   37.8       69.2   22.1\n",
       "1   2   44.5   39.3       45.1   10.4\n",
       "2   3   17.2   45.9       69.3    9.3\n",
       "3   4  151.5   41.3       58.5   18.5\n",
       "4   5  180.8   10.8       58.4   12.9\n",
       "5   6    8.7   48.9       75.0    7.2"
      ]
     },
     "execution_count": 9,
     "metadata": {},
     "output_type": "execute_result"
    }
   ],
   "source": [
    "df.head(6)"
   ]
  },
  {
   "cell_type": "markdown",
   "id": "5ed86dd0",
   "metadata": {},
   "source": [
    "## EDA"
   ]
  },
  {
   "cell_type": "code",
   "execution_count": 10,
   "id": "3230b309",
   "metadata": {},
   "outputs": [
    {
     "name": "stdout",
     "output_type": "stream",
     "text": [
      "<class 'pandas.core.frame.DataFrame'>\n",
      "RangeIndex: 200 entries, 0 to 199\n",
      "Data columns (total 5 columns):\n",
      " #   Column     Non-Null Count  Dtype  \n",
      "---  ------     --------------  -----  \n",
      " 0   ID         200 non-null    int64  \n",
      " 1   TV         200 non-null    float64\n",
      " 2   radio      200 non-null    float64\n",
      " 3   newspaper  200 non-null    float64\n",
      " 4   sales      200 non-null    float64\n",
      "dtypes: float64(4), int64(1)\n",
      "memory usage: 7.9 KB\n"
     ]
    }
   ],
   "source": [
    "df.info()\n",
    "# we can see all the features are categorical"
   ]
  },
  {
   "cell_type": "code",
   "execution_count": 11,
   "id": "b015ddc1",
   "metadata": {},
   "outputs": [
    {
     "data": {
      "text/html": [
       "<div>\n",
       "<style scoped>\n",
       "    .dataframe tbody tr th:only-of-type {\n",
       "        vertical-align: middle;\n",
       "    }\n",
       "\n",
       "    .dataframe tbody tr th {\n",
       "        vertical-align: top;\n",
       "    }\n",
       "\n",
       "    .dataframe thead th {\n",
       "        text-align: right;\n",
       "    }\n",
       "</style>\n",
       "<table border=\"1\" class=\"dataframe\">\n",
       "  <thead>\n",
       "    <tr style=\"text-align: right;\">\n",
       "      <th></th>\n",
       "      <th>count</th>\n",
       "      <th>mean</th>\n",
       "      <th>std</th>\n",
       "      <th>min</th>\n",
       "      <th>25%</th>\n",
       "      <th>50%</th>\n",
       "      <th>75%</th>\n",
       "      <th>max</th>\n",
       "    </tr>\n",
       "  </thead>\n",
       "  <tbody>\n",
       "    <tr>\n",
       "      <th>ID</th>\n",
       "      <td>200.0</td>\n",
       "      <td>100.5000</td>\n",
       "      <td>57.879185</td>\n",
       "      <td>1.0</td>\n",
       "      <td>50.750</td>\n",
       "      <td>100.50</td>\n",
       "      <td>150.250</td>\n",
       "      <td>200.0</td>\n",
       "    </tr>\n",
       "    <tr>\n",
       "      <th>TV</th>\n",
       "      <td>200.0</td>\n",
       "      <td>147.0425</td>\n",
       "      <td>85.854236</td>\n",
       "      <td>0.7</td>\n",
       "      <td>74.375</td>\n",
       "      <td>149.75</td>\n",
       "      <td>218.825</td>\n",
       "      <td>296.4</td>\n",
       "    </tr>\n",
       "    <tr>\n",
       "      <th>radio</th>\n",
       "      <td>200.0</td>\n",
       "      <td>23.2640</td>\n",
       "      <td>14.846809</td>\n",
       "      <td>0.0</td>\n",
       "      <td>9.975</td>\n",
       "      <td>22.90</td>\n",
       "      <td>36.525</td>\n",
       "      <td>49.6</td>\n",
       "    </tr>\n",
       "    <tr>\n",
       "      <th>newspaper</th>\n",
       "      <td>200.0</td>\n",
       "      <td>30.5540</td>\n",
       "      <td>21.778621</td>\n",
       "      <td>0.3</td>\n",
       "      <td>12.750</td>\n",
       "      <td>25.75</td>\n",
       "      <td>45.100</td>\n",
       "      <td>114.0</td>\n",
       "    </tr>\n",
       "    <tr>\n",
       "      <th>sales</th>\n",
       "      <td>200.0</td>\n",
       "      <td>14.0225</td>\n",
       "      <td>5.217457</td>\n",
       "      <td>1.6</td>\n",
       "      <td>10.375</td>\n",
       "      <td>12.90</td>\n",
       "      <td>17.400</td>\n",
       "      <td>27.0</td>\n",
       "    </tr>\n",
       "  </tbody>\n",
       "</table>\n",
       "</div>"
      ],
      "text/plain": [
       "           count      mean        std  min     25%     50%      75%    max\n",
       "ID         200.0  100.5000  57.879185  1.0  50.750  100.50  150.250  200.0\n",
       "TV         200.0  147.0425  85.854236  0.7  74.375  149.75  218.825  296.4\n",
       "radio      200.0   23.2640  14.846809  0.0   9.975   22.90   36.525   49.6\n",
       "newspaper  200.0   30.5540  21.778621  0.3  12.750   25.75   45.100  114.0\n",
       "sales      200.0   14.0225   5.217457  1.6  10.375   12.90   17.400   27.0"
      ]
     },
     "execution_count": 11,
     "metadata": {},
     "output_type": "execute_result"
    }
   ],
   "source": [
    "df.describe().T\n",
    "\n",
    "# we can say that the features are largely distributed\n",
    "# Outliers migh be present in newspaper and TV features"
   ]
  },
  {
   "cell_type": "code",
   "execution_count": 12,
   "id": "94df5a8a",
   "metadata": {},
   "outputs": [],
   "source": [
    "#sales is our target variable"
   ]
  },
  {
   "cell_type": "code",
   "execution_count": 13,
   "id": "2409c0f8",
   "metadata": {},
   "outputs": [
    {
     "data": {
      "image/png": "[encoded data removed]",
      "text/plain": [
       "<Figure size 1080x504 with 1 Axes>"
      ]
     },
     "metadata": {},
     "output_type": "display_data"
    }
   ],
   "source": [
    "plt.rcParams['figure.figsize'] = (15,7)\n",
    "plt.title('Plot between TV and Sales')\n",
    "sns.scatterplot(x = df['sales'],y = df['TV'])\n",
    "\n",
    "plt.xlabel('SALES')\n",
    "plt.ylabel('TV')\n",
    "plt.show()\n",
    "\n",
    "# We can see there is a positive correlation between sales and TV\n",
    "# which is showing that sales are increasing with increase in distribution through TV chanel"
   ]
  },
  {
   "cell_type": "code",
   "execution_count": 14,
   "id": "a1110172",
   "metadata": {},
   "outputs": [
    {
     "data": {
      "image/png": "[encoded data removed]",
      "text/plain": [
       "<Figure size 1080x504 with 1 Axes>"
      ]
     },
     "metadata": {},
     "output_type": "display_data"
    }
   ],
   "source": [
    "# \n",
    "plt.rcParams['figure.figsize'] = (15,7)\n",
    "plt.title('Plot between Radio and Sales')\n",
    "sns.scatterplot(x = df['sales'],y = df['radio'])\n",
    "\n",
    "plt.xlabel('SALES')\n",
    "plt.ylabel('radio')\n",
    "plt.show()\n",
    "\n",
    "# we can see radio is also positively correlated with sales"
   ]
  },
  {
   "cell_type": "code",
   "execution_count": 15,
   "id": "bccc78ee",
   "metadata": {},
   "outputs": [
    {
     "data": {
      "image/png": "[encoded data removed]",
      "text/plain": [
       "<Figure size 1080x504 with 1 Axes>"
      ]
     },
     "metadata": {},
     "output_type": "display_data"
    }
   ],
   "source": [
    "plt.rcParams['figure.figsize'] = (15,7)\n",
    "plt.title('Plot between Newspaper and Sales')\n",
    "sns.scatterplot(x = df['sales'],y = df['newspaper'])\n",
    "\n",
    "plt.xlabel('SALES')\n",
    "plt.ylabel('Newspaper')\n",
    "plt.show()\n",
    "\n",
    "# We can see there is not much effective sales by the thruough Newspapers "
   ]
  },
  {
   "cell_type": "code",
   "execution_count": 16,
   "id": "c4e5d92e",
   "metadata": {},
   "outputs": [
    {
     "data": {
      "text/plain": [
       "<AxesSubplot:xlabel='TV', ylabel='Density'>"
      ]
     },
     "execution_count": 16,
     "metadata": {},
     "output_type": "execute_result"
    },
    {
     "data": {
      "image/png": "[encoded data removed]",
      "text/plain": [
       "<Figure size 1080x504 with 1 Axes>"
      ]
     },
     "metadata": {},
     "output_type": "display_data"
    }
   ],
   "source": [
    "# Univariate Analysis\n",
    "sns.distplot(df['TV'])"
   ]
  },
  {
   "cell_type": "code",
   "execution_count": 17,
   "id": "29794366",
   "metadata": {},
   "outputs": [
    {
     "data": {
      "text/plain": [
       "<AxesSubplot:xlabel='newspaper', ylabel='Density'>"
      ]
     },
     "execution_count": 17,
     "metadata": {},
     "output_type": "execute_result"
    },
    {
     "data": {
      "image/png": "[encoded data removed]",
      "text/plain": [
       "<Figure size 1080x504 with 1 Axes>"
      ]
     },
     "metadata": {},
     "output_type": "display_data"
    }
   ],
   "source": [
    "sns.distplot(df['newspaper'])\n",
    "# we can see that newspaper is right skewed"
   ]
  },
  {
   "cell_type": "code",
   "execution_count": 18,
   "id": "ab448ed2",
   "metadata": {},
   "outputs": [
    {
     "data": {
      "text/plain": [
       "<AxesSubplot:xlabel='radio', ylabel='Density'>"
      ]
     },
     "execution_count": 18,
     "metadata": {},
     "output_type": "execute_result"
    },
    {
     "data": {
      "image/png": "[encoded data removed]",
      "text/plain": [
       "<Figure size 1080x504 with 1 Axes>"
      ]
     },
     "metadata": {},
     "output_type": "display_data"
    }
   ],
   "source": [
    "sns.distplot(df['radio'])"
   ]
  },
  {
   "cell_type": "code",
   "execution_count": 19,
   "id": "b0c378f1",
   "metadata": {},
   "outputs": [
    {
     "data": {
      "image/png": "[encoded data removed]",
      "text/plain": [
       "<Figure size 1080x504 with 1 Axes>"
      ]
     },
     "metadata": {},
     "output_type": "display_data"
    },
    {
     "data": {
      "image/png": "[encoded data removed]",
      "text/plain": [
       "<Figure size 1080x504 with 1 Axes>"
      ]
     },
     "metadata": {},
     "output_type": "display_data"
    },
    {
     "data": {
      "image/png": "[encoded data removed]",
      "text/plain": [
       "<Figure size 1080x504 with 1 Axes>"
      ]
     },
     "metadata": {},
     "output_type": "display_data"
    },
    {
     "data": {
      "image/png": "[encoded data removed]",
      "text/plain": [
       "<Figure size 1080x504 with 1 Axes>"
      ]
     },
     "metadata": {},
     "output_type": "display_data"
    },
    {
     "data": {
      "image/png": "[encoded data removed]",
      "text/plain": [
       "<Figure size 1080x504 with 1 Axes>"
      ]
     },
     "metadata": {},
     "output_type": "display_data"
    }
   ],
   "source": [
    "for i in df.columns:\n",
    "    sns.histplot(df[i])\n",
    "    plt.show()"
   ]
  },
  {
   "cell_type": "code",
   "execution_count": 20,
   "id": "627a2ada",
   "metadata": {},
   "outputs": [],
   "source": [
    "# WE WILL DROP THE ID COLUMN WHICH IS OF NO USE FOR OUR MODEL"
   ]
  },
  {
   "cell_type": "code",
   "execution_count": 21,
   "id": "4d230472",
   "metadata": {},
   "outputs": [],
   "source": [
    "df.drop(['ID'],axis=1,inplace=True)"
   ]
  },
  {
   "cell_type": "code",
   "execution_count": 22,
   "id": "7eaa81d2",
   "metadata": {},
   "outputs": [
    {
     "data": {
      "text/html": [
       "<div>\n",
       "<style scoped>\n",
       "    .dataframe tbody tr th:only-of-type {\n",
       "        vertical-align: middle;\n",
       "    }\n",
       "\n",
       "    .dataframe tbody tr th {\n",
       "        vertical-align: top;\n",
       "    }\n",
       "\n",
       "    .dataframe thead th {\n",
       "        text-align: right;\n",
       "    }\n",
       "</style>\n",
       "<table border=\"1\" class=\"dataframe\">\n",
       "  <thead>\n",
       "    <tr style=\"text-align: right;\">\n",
       "      <th></th>\n",
       "      <th>TV</th>\n",
       "      <th>radio</th>\n",
       "      <th>newspaper</th>\n",
       "      <th>sales</th>\n",
       "    </tr>\n",
       "  </thead>\n",
       "  <tbody>\n",
       "    <tr>\n",
       "      <th>28</th>\n",
       "      <td>248.8</td>\n",
       "      <td>27.1</td>\n",
       "      <td>22.9</td>\n",
       "      <td>18.9</td>\n",
       "    </tr>\n",
       "    <tr>\n",
       "      <th>75</th>\n",
       "      <td>16.9</td>\n",
       "      <td>43.7</td>\n",
       "      <td>89.4</td>\n",
       "      <td>8.7</td>\n",
       "    </tr>\n",
       "    <tr>\n",
       "      <th>51</th>\n",
       "      <td>100.4</td>\n",
       "      <td>9.6</td>\n",
       "      <td>3.6</td>\n",
       "      <td>10.7</td>\n",
       "    </tr>\n",
       "  </tbody>\n",
       "</table>\n",
       "</div>"
      ],
      "text/plain": [
       "       TV  radio  newspaper  sales\n",
       "28  248.8   27.1       22.9   18.9\n",
       "75   16.9   43.7       89.4    8.7\n",
       "51  100.4    9.6        3.6   10.7"
      ]
     },
     "execution_count": 22,
     "metadata": {},
     "output_type": "execute_result"
    }
   ],
   "source": [
    "df.sample(3)"
   ]
  },
  {
   "cell_type": "code",
   "execution_count": 23,
   "id": "a6e472df",
   "metadata": {},
   "outputs": [],
   "source": [
    "# CHECKING THE CORRELATION"
   ]
  },
  {
   "cell_type": "code",
   "execution_count": 24,
   "id": "57f1a4c1",
   "metadata": {},
   "outputs": [
    {
     "data": {
      "text/html": [
       "<div>\n",
       "<style scoped>\n",
       "    .dataframe tbody tr th:only-of-type {\n",
       "        vertical-align: middle;\n",
       "    }\n",
       "\n",
       "    .dataframe tbody tr th {\n",
       "        vertical-align: top;\n",
       "    }\n",
       "\n",
       "    .dataframe thead th {\n",
       "        text-align: right;\n",
       "    }\n",
       "</style>\n",
       "<table border=\"1\" class=\"dataframe\">\n",
       "  <thead>\n",
       "    <tr style=\"text-align: right;\">\n",
       "      <th></th>\n",
       "      <th>TV</th>\n",
       "      <th>radio</th>\n",
       "      <th>newspaper</th>\n",
       "      <th>sales</th>\n",
       "    </tr>\n",
       "  </thead>\n",
       "  <tbody>\n",
       "    <tr>\n",
       "      <th>TV</th>\n",
       "      <td>1.000000</td>\n",
       "      <td>0.054809</td>\n",
       "      <td>0.056648</td>\n",
       "      <td>0.782224</td>\n",
       "    </tr>\n",
       "    <tr>\n",
       "      <th>radio</th>\n",
       "      <td>0.054809</td>\n",
       "      <td>1.000000</td>\n",
       "      <td>0.354104</td>\n",
       "      <td>0.576223</td>\n",
       "    </tr>\n",
       "    <tr>\n",
       "      <th>newspaper</th>\n",
       "      <td>0.056648</td>\n",
       "      <td>0.354104</td>\n",
       "      <td>1.000000</td>\n",
       "      <td>0.228299</td>\n",
       "    </tr>\n",
       "    <tr>\n",
       "      <th>sales</th>\n",
       "      <td>0.782224</td>\n",
       "      <td>0.576223</td>\n",
       "      <td>0.228299</td>\n",
       "      <td>1.000000</td>\n",
       "    </tr>\n",
       "  </tbody>\n",
       "</table>\n",
       "</div>"
      ],
      "text/plain": [
       "                 TV     radio  newspaper     sales\n",
       "TV         1.000000  0.054809   0.056648  0.782224\n",
       "radio      0.054809  1.000000   0.354104  0.576223\n",
       "newspaper  0.056648  0.354104   1.000000  0.228299\n",
       "sales      0.782224  0.576223   0.228299  1.000000"
      ]
     },
     "execution_count": 24,
     "metadata": {},
     "output_type": "execute_result"
    }
   ],
   "source": [
    "df.corr().T"
   ]
  },
  {
   "cell_type": "code",
   "execution_count": 25,
   "id": "b66e2834",
   "metadata": {},
   "outputs": [
    {
     "data": {
      "text/plain": [
       "<AxesSubplot:>"
      ]
     },
     "execution_count": 25,
     "metadata": {},
     "output_type": "execute_result"
    },
    {
     "data": {
      "image/png": "[encoded data removed]",
      "text/plain": [
       "<Figure size 1080x504 with 2 Axes>"
      ]
     },
     "metadata": {},
     "output_type": "display_data"
    }
   ],
   "source": [
    "# plotting a heatmap to see clearly\n",
    "sns.heatmap(df.corr(),annot=True,linewidths=0.5,linecolor='black',fmt='.2f')"
   ]
  },
  {
   "cell_type": "code",
   "execution_count": 26,
   "id": "a06d25cc",
   "metadata": {},
   "outputs": [],
   "source": [
    "# CHECKING MULTICOLLINEARITY\n",
    "from statsmodels.stats.outliers_influence import variance_inflation_factor"
   ]
  },
  {
   "cell_type": "code",
   "execution_count": 27,
   "id": "3d45b625",
   "metadata": {},
   "outputs": [
    {
     "data": {
      "text/plain": [
       "(200, 3)"
      ]
     },
     "execution_count": 27,
     "metadata": {},
     "output_type": "execute_result"
    }
   ],
   "source": [
    "# CREATING A instance for continuous columns\n",
    "contcols = df[['TV','radio','newspaper']]\n",
    "contcols.shape"
   ]
  },
  {
   "cell_type": "code",
   "execution_count": 28,
   "id": "0efb10ff",
   "metadata": {},
   "outputs": [],
   "source": [
    "# CREATING A FUNCTION AND A DATAFRAME TO COMAPRE THE VIF SCORE OF EACH CONTINUOIUS COLUMN\n",
    "def vif_calc():\n",
    "    vif = pd.DataFrame()\n",
    "    vif['Features'] = contcols.columns\n",
    "    vif['VIF Factor'] = [variance_inflation_factor(contcols.values,i) for i in range(contcols.shape[1])]\n",
    "    print(vif)"
   ]
  },
  {
   "cell_type": "code",
   "execution_count": 29,
   "id": "780ad676",
   "metadata": {},
   "outputs": [
    {
     "name": "stdout",
     "output_type": "stream",
     "text": [
      "    Features  VIF Factor\n",
      "0         TV    2.486772\n",
      "1      radio    3.285462\n",
      "2  newspaper    3.055245\n"
     ]
    }
   ],
   "source": [
    "vif_calc() \n",
    "\n",
    "# WE CAN SEE THE VIF SCORE IS LESS, SO THERE IS NO MULTICOLLINEARITY PRESENT BETWEEN THE FEATURES"
   ]
  },
  {
   "cell_type": "code",
   "execution_count": 30,
   "id": "a78217cd",
   "metadata": {},
   "outputs": [],
   "source": [
    "# CHECKING THE OUTLIERS"
   ]
  },
  {
   "cell_type": "code",
   "execution_count": 31,
   "id": "923caf78",
   "metadata": {},
   "outputs": [
    {
     "data": {
      "image/png": "[encoded data removed]",
      "text/plain": [
       "<Figure size 1080x504 with 1 Axes>"
      ]
     },
     "metadata": {},
     "output_type": "display_data"
    },
    {
     "data": {
      "image/png": "[encoded data removed]",
      "text/plain": [
       "<Figure size 1080x504 with 1 Axes>"
      ]
     },
     "metadata": {},
     "output_type": "display_data"
    },
    {
     "data": {
      "image/png": "[encoded data removed]",
      "text/plain": [
       "<Figure size 1080x504 with 1 Axes>"
      ]
     },
     "metadata": {},
     "output_type": "display_data"
    }
   ],
   "source": [
    "contcols = df[['TV','radio','newspaper']]\n",
    "\n",
    "for i in contcols:\n",
    "    sns.boxplot(df[i])\n",
    "    plt.show()\n",
    "    \n",
    "# we can see there are outliers only in newsapaper"
   ]
  },
  {
   "cell_type": "code",
   "execution_count": 32,
   "id": "dd420ca4",
   "metadata": {},
   "outputs": [
    {
     "name": "stdout",
     "output_type": "stream",
     "text": [
      "(array([ 16, 101], dtype=int64), array([2, 2], dtype=int64))\n"
     ]
    }
   ],
   "source": [
    "contcols = df[['TV','radio','newspaper']]\n",
    "\n",
    "from scipy.stats import zscore\n",
    "z = np.abs(zscore(contcols))\n",
    "print(np.where(z>3))\n",
    "\n",
    "# we can see outliers are present only in feature 2 i.e., newspaper"
   ]
  },
  {
   "cell_type": "code",
   "execution_count": 33,
   "id": "f1cb6b86",
   "metadata": {},
   "outputs": [],
   "source": [
    "# Removing the outliers \n",
    "df_new = df[(z<3).all(axis=1)]"
   ]
  },
  {
   "cell_type": "code",
   "execution_count": 34,
   "id": "1a97de37",
   "metadata": {},
   "outputs": [
    {
     "name": "stdout",
     "output_type": "stream",
     "text": [
      "shape before and after\n",
      "shape before         : (200, 4)\n",
      "shape after          : (198, 4)\n",
      "Percentage Loss      : 1.0\n"
     ]
    }
   ],
   "source": [
    "# CHECKING THE SHAPE OF DF BEFORE AND AFTER REMOVING THE OUTLIERS AND CHECKING THE % LOSS OF DATA\n",
    "print(\"shape before and after\")\n",
    "print(\"shape before\".ljust(20),\":\", df.shape)\n",
    "print(\"shape after\".ljust(20),\":\", df_new.shape)\n",
    "print(\"Percentage Loss\".ljust(20),\":\", (df.shape[0]-df_new.shape[0])/df.shape[0]*100)"
   ]
  },
  {
   "cell_type": "code",
   "execution_count": 35,
   "id": "287af70c",
   "metadata": {},
   "outputs": [],
   "source": [
    "# # finding out the quantile of data with continuous columns\n",
    "Q1 = contcols.quantile(0.25)\n",
    "Q3 = contcols.quantile(0.75)\n",
    "IQR = Q3 - Q1\n",
    "# REMOVING OUTLIERS USING IQR METHOD (be carefull with the variables used here)\n",
    "df_new_quant = df[~((contcols < (Q1 - 1.5 * IQR)) |(contcols > (Q3 + 1.5 * IQR))).any(axis=1)]"
   ]
  },
  {
   "cell_type": "code",
   "execution_count": 36,
   "id": "0423e040",
   "metadata": {},
   "outputs": [
    {
     "name": "stdout",
     "output_type": "stream",
     "text": [
      "shape before and after\n",
      "shape before         : (200, 4)\n",
      "shape after          : (198, 4)\n",
      "Percentage Loss      : 1.0\n"
     ]
    }
   ],
   "source": [
    "print(\"shape before and after\")\n",
    "print(\"shape before\".ljust(20),\":\", df.shape)\n",
    "print(\"shape after\".ljust(20),\":\", df_new_quant.shape)\n",
    "print(\"Percentage Loss\".ljust(20),\":\", (df.shape[0]-df_new_quant.shape[0])/df.shape[0]*100)\n",
    "\n",
    "# We can see that the dataloss is same using quantile method as well"
   ]
  },
  {
   "cell_type": "code",
   "execution_count": 37,
   "id": "797d8118",
   "metadata": {},
   "outputs": [
    {
     "data": {
      "text/html": [
       "<div>\n",
       "<style scoped>\n",
       "    .dataframe tbody tr th:only-of-type {\n",
       "        vertical-align: middle;\n",
       "    }\n",
       "\n",
       "    .dataframe tbody tr th {\n",
       "        vertical-align: top;\n",
       "    }\n",
       "\n",
       "    .dataframe thead th {\n",
       "        text-align: right;\n",
       "    }\n",
       "</style>\n",
       "<table border=\"1\" class=\"dataframe\">\n",
       "  <thead>\n",
       "    <tr style=\"text-align: right;\">\n",
       "      <th></th>\n",
       "      <th>TV</th>\n",
       "      <th>radio</th>\n",
       "      <th>newspaper</th>\n",
       "      <th>sales</th>\n",
       "    </tr>\n",
       "  </thead>\n",
       "  <tbody>\n",
       "    <tr>\n",
       "      <th>0</th>\n",
       "      <td>230.1</td>\n",
       "      <td>37.8</td>\n",
       "      <td>69.2</td>\n",
       "      <td>22.1</td>\n",
       "    </tr>\n",
       "    <tr>\n",
       "      <th>1</th>\n",
       "      <td>44.5</td>\n",
       "      <td>39.3</td>\n",
       "      <td>45.1</td>\n",
       "      <td>10.4</td>\n",
       "    </tr>\n",
       "    <tr>\n",
       "      <th>2</th>\n",
       "      <td>17.2</td>\n",
       "      <td>45.9</td>\n",
       "      <td>69.3</td>\n",
       "      <td>9.3</td>\n",
       "    </tr>\n",
       "    <tr>\n",
       "      <th>3</th>\n",
       "      <td>151.5</td>\n",
       "      <td>41.3</td>\n",
       "      <td>58.5</td>\n",
       "      <td>18.5</td>\n",
       "    </tr>\n",
       "    <tr>\n",
       "      <th>4</th>\n",
       "      <td>180.8</td>\n",
       "      <td>10.8</td>\n",
       "      <td>58.4</td>\n",
       "      <td>12.9</td>\n",
       "    </tr>\n",
       "  </tbody>\n",
       "</table>\n",
       "</div>"
      ],
      "text/plain": [
       "      TV  radio  newspaper  sales\n",
       "0  230.1   37.8       69.2   22.1\n",
       "1   44.5   39.3       45.1   10.4\n",
       "2   17.2   45.9       69.3    9.3\n",
       "3  151.5   41.3       58.5   18.5\n",
       "4  180.8   10.8       58.4   12.9"
      ]
     },
     "execution_count": 37,
     "metadata": {},
     "output_type": "execute_result"
    }
   ],
   "source": [
    "df_new.head()"
   ]
  },
  {
   "cell_type": "code",
   "execution_count": 38,
   "id": "bc54d0a6",
   "metadata": {},
   "outputs": [
    {
     "data": {
      "text/plain": [
       "<AxesSubplot:xlabel='newspaper'>"
      ]
     },
     "execution_count": 38,
     "metadata": {},
     "output_type": "execute_result"
    },
    {
     "data": {
      "image/png": "[encoded data removed]",
      "text/plain": [
       "<Figure size 1080x504 with 1 Axes>"
      ]
     },
     "metadata": {},
     "output_type": "display_data"
    }
   ],
   "source": [
    "# CHECKING THE OUTLIERS AGAIN FOR THE NEWSPAPER COLUMN\n",
    "sns.boxplot(df_new['newspaper'])\n",
    "\n",
    "# we can see outliers are removed"
   ]
  },
  {
   "cell_type": "code",
   "execution_count": 39,
   "id": "28253f8a",
   "metadata": {},
   "outputs": [
    {
     "data": {
      "text/plain": [
       "TV          -0.082332\n",
       "radio        0.114842\n",
       "sales        0.407130\n",
       "newspaper    0.650112\n",
       "dtype: float64"
      ]
     },
     "execution_count": 39,
     "metadata": {},
     "output_type": "execute_result"
    }
   ],
   "source": [
    "# CHECKING SKEWNESS\n",
    "df_new.skew().sort_values()\n",
    "# setting threshold as 0.1 skew, removing skewness from newspaper"
   ]
  },
  {
   "cell_type": "code",
   "execution_count": 40,
   "id": "75f0e557",
   "metadata": {},
   "outputs": [],
   "source": [
    "# we can see there newspaper is skewed more "
   ]
  },
  {
   "cell_type": "code",
   "execution_count": 41,
   "id": "3a788dbc",
   "metadata": {},
   "outputs": [
    {
     "data": {
      "text/plain": [
       "<AxesSubplot:xlabel='newspaper', ylabel='Density'>"
      ]
     },
     "execution_count": 41,
     "metadata": {},
     "output_type": "execute_result"
    },
    {
     "data": {
      "image/png": "[encoded data removed]",
      "text/plain": [
       "<Figure size 1080x504 with 1 Axes>"
      ]
     },
     "metadata": {},
     "output_type": "display_data"
    }
   ],
   "source": [
    "sns.distplot(df_new['newspaper'])"
   ]
  },
  {
   "cell_type": "code",
   "execution_count": 42,
   "id": "45ac93fd",
   "metadata": {},
   "outputs": [],
   "source": [
    "# removing skewnees\n",
    "df_new['newspaper'] = np.sqrt(df_new['newspaper'])"
   ]
  },
  {
   "cell_type": "code",
   "execution_count": 43,
   "id": "29dae299",
   "metadata": {},
   "outputs": [
    {
     "data": {
      "text/plain": [
       "<AxesSubplot:xlabel='newspaper', ylabel='Density'>"
      ]
     },
     "execution_count": 43,
     "metadata": {},
     "output_type": "execute_result"
    },
    {
     "data": {
      "image/png": "[encoded data removed]",
      "text/plain": [
       "<Figure size 1080x504 with 1 Axes>"
      ]
     },
     "metadata": {},
     "output_type": "display_data"
    }
   ],
   "source": [
    "sns.distplot(df_new['newspaper']) # we can see that the skewness is removed, now it is almost normal distribution"
   ]
  },
  {
   "cell_type": "code",
   "execution_count": 44,
   "id": "3839476a",
   "metadata": {},
   "outputs": [
    {
     "data": {
      "text/plain": [
       "TV          -0.082332\n",
       "newspaper   -0.040649\n",
       "radio        0.114842\n",
       "sales        0.407130\n",
       "dtype: float64"
      ]
     },
     "execution_count": 44,
     "metadata": {},
     "output_type": "execute_result"
    }
   ],
   "source": [
    "df_new.skew().sort_values() # we can see that the skewness is reduced there isn alomost 0.0 skewness in the tv and newspaper and 0.1 in radio"
   ]
  },
  {
   "cell_type": "code",
   "execution_count": 45,
   "id": "ade8ca0b",
   "metadata": {},
   "outputs": [],
   "source": [
    "# SPLITTING THE DATA"
   ]
  },
  {
   "cell_type": "code",
   "execution_count": 46,
   "id": "2ea8edd7",
   "metadata": {},
   "outputs": [],
   "source": [
    "x = df_new.iloc[:,:-1]\n",
    "y = df_new.iloc[:,-1]"
   ]
  },
  {
   "cell_type": "code",
   "execution_count": 47,
   "id": "fb493167",
   "metadata": {},
   "outputs": [
    {
     "data": {
      "text/html": [
       "<div>\n",
       "<style scoped>\n",
       "    .dataframe tbody tr th:only-of-type {\n",
       "        vertical-align: middle;\n",
       "    }\n",
       "\n",
       "    .dataframe tbody tr th {\n",
       "        vertical-align: top;\n",
       "    }\n",
       "\n",
       "    .dataframe thead th {\n",
       "        text-align: right;\n",
       "    }\n",
       "</style>\n",
       "<table border=\"1\" class=\"dataframe\">\n",
       "  <thead>\n",
       "    <tr style=\"text-align: right;\">\n",
       "      <th></th>\n",
       "      <th>TV</th>\n",
       "      <th>radio</th>\n",
       "      <th>newspaper</th>\n",
       "    </tr>\n",
       "  </thead>\n",
       "  <tbody>\n",
       "    <tr>\n",
       "      <th>31</th>\n",
       "      <td>112.9</td>\n",
       "      <td>17.4</td>\n",
       "      <td>6.21289</td>\n",
       "    </tr>\n",
       "  </tbody>\n",
       "</table>\n",
       "</div>"
      ],
      "text/plain": [
       "       TV  radio  newspaper\n",
       "31  112.9   17.4    6.21289"
      ]
     },
     "execution_count": 47,
     "metadata": {},
     "output_type": "execute_result"
    }
   ],
   "source": [
    "x.sample()"
   ]
  },
  {
   "cell_type": "code",
   "execution_count": 48,
   "id": "a511259a",
   "metadata": {},
   "outputs": [
    {
     "data": {
      "text/plain": [
       "108    5.3\n",
       "Name: sales, dtype: float64"
      ]
     },
     "execution_count": 48,
     "metadata": {},
     "output_type": "execute_result"
    }
   ],
   "source": [
    "y.sample()"
   ]
  },
  {
   "cell_type": "code",
   "execution_count": 49,
   "id": "4f65cc4e",
   "metadata": {},
   "outputs": [],
   "source": [
    "# SCALING THE DATA "
   ]
  },
  {
   "cell_type": "code",
   "execution_count": 50,
   "id": "9359efed",
   "metadata": {},
   "outputs": [],
   "source": [
    "from sklearn.preprocessing import StandardScaler"
   ]
  },
  {
   "cell_type": "code",
   "execution_count": 51,
   "id": "562ef35c",
   "metadata": {},
   "outputs": [],
   "source": [
    "sc = StandardScaler()\n",
    "x = sc.fit_transform(x)"
   ]
  },
  {
   "cell_type": "code",
   "execution_count": 52,
   "id": "b86e9c11",
   "metadata": {},
   "outputs": [
    {
     "data": {
      "text/plain": [
       "array([[ 9.78697339e-01,  9.89521352e-01,  1.63669060e+00],\n",
       "       [-1.19901165e+00,  1.09070498e+00,  8.24807889e-01],\n",
       "       [-1.51933199e+00,  1.53591293e+00,  1.63973373e+00],\n",
       "       [ 5.64563564e-02,  1.22561648e+00,  1.29728802e+00],\n",
       "       [ 4.00243389e-01, -8.31783915e-01,  1.29397566e+00],\n",
       "       [-1.61906543e+00,  1.73828018e+00,  1.80970327e+00],\n",
       "       [-1.04647815e+00,  6.52242599e-01, -1.21277595e-01],\n",
       "       [-3.10797368e-01, -2.38173309e-01, -8.51517342e-01],\n",
       "       [-1.62023876e+00, -1.41864895e+00, -2.07003868e+00],\n",
       "       [ 6.23176960e-01, -1.38492107e+00, -2.44520695e-01],\n",
       "       [-9.45571378e-01, -1.16906267e+00, -8.49785485e-02],\n",
       "       [ 7.98003813e-01,  5.86319933e-02, -1.56356175e+00],\n",
       "       [-1.44189191e+00,  8.07390825e-01,  1.53500409e+00],\n",
       "       [-5.77144318e-01, -1.04764232e+00, -1.21749539e+00],\n",
       "       [ 6.73630347e-01,  6.58988174e-01,  8.58578063e-01],\n",
       "       [ 5.71550238e-01,  1.65733328e+00,  1.10721196e+00],\n",
       "       [ 1.58061798e+00,  1.11094170e+00,  1.20683655e+00],\n",
       "       [-9.09198006e-01, -1.77463134e-01, -4.09883309e-01],\n",
       "       [ 7.17630394e-03,  5.18864183e-02, -3.63031787e-01],\n",
       "       [ 8.41417193e-01,  3.08218271e-01,  1.12457994e+00],\n",
       "       [ 1.06435076e+00, -1.21628169e+00, -1.21277595e-01],\n",
       "       [-1.56626537e+00, -4.87759587e-01,  9.90463015e-01],\n",
       "       [ 9.57577316e-01, -4.20303836e-01,  1.59339442e-02],\n",
       "       [-9.90158092e-01, -7.10363564e-01, -4.09883309e-01],\n",
       "       [ 1.36355108e+00, -1.32421089e+00, -3.39974042e-01],\n",
       "       [-4.44504177e-02,  4.16147472e-01, -7.78700851e-01],\n",
       "       [ 1.09603080e+00, -4.33794986e-01, -1.52823719e-01],\n",
       "       [ 1.19811091e+00,  2.67744820e-01, -1.52823719e-01],\n",
       "       [-8.92771321e-01, -4.81014012e-01,  6.58599590e-01],\n",
       "       [ 1.71555146e+00,  3.48691721e-01,  7.52390467e-01],\n",
       "       [-3.96450793e-01, -3.86575961e-01,  5.70169760e-01],\n",
       "       [-5.80664322e-01, -1.45912240e+00,  1.97572788e-01],\n",
       "       [ 1.39523112e+00, -2.11191009e-01, -2.29910677e+00],\n",
       "       [-5.98264341e-01, -1.46586797e+00, -1.19874940e+00],\n",
       "       [ 1.68973810e+00, -1.28373744e+00, -1.09989430e+00],\n",
       "       [ 1.41048447e+00,  1.39425586e+00, -1.44399876e+00],\n",
       "       [-8.44664603e-01,  1.77200806e+00,  8.47358347e-01],\n",
       "       [-1.21543833e+00,  2.40762520e-01,  4.24119778e-01],\n",
       "       [ 9.54057313e-01,  9.82775777e-01,  2.88550568e-01],\n",
       "       [ 6.54856994e-01, -5.60427827e-02,  2.70587593e-01],\n",
       "       [ 3.55656675e-01,  6.92716049e-01,  5.74243141e-01],\n",
       "       [ 1.72376480e+00,  3.08218271e-01, -1.89700550e+00],\n",
       "       [ 7.06483716e-01, -9.93677716e-01,  2.58099783e-02],\n",
       "       [-1.42663856e+00,  1.73306769e-01,  7.56241141e-01],\n",
       "       [ 3.33363318e-01, -4.25516326e-02,  2.66079113e-01],\n",
       "       [-6.68664416e-01, -8.92494090e-01,  4.49657561e-01],\n",
       "       [ 1.09368413e+00,  1.23910763e+00, -3.98075961e-01],\n",
       "       [ 9.44670636e-01, -4.94505162e-01,  1.00123399e+00],\n",
       "       [-9.36184701e-01, -7.71073739e-01,  4.95925574e-01],\n",
       "       [ 6.23176960e-01, -1.35119319e+00,  4.02671073e-01],\n",
       "       [-5.43117616e-01, -9.12730816e-01, -1.61554320e+00],\n",
       "       [ 8.17950501e-01,  1.25259878e+00,  6.10669308e-01],\n",
       "       [ 4.21363412e-01,  1.55614966e+00,  1.30390426e+00],\n",
       "       [ 1.36120441e+00,  3.82419596e-01, -5.56948772e-01],\n",
       "       [ 6.12616949e-01,  1.77200806e+00,  1.34663783e+00],\n",
       "       [-1.63549211e+00,  3.35200571e-01,  6.82300384e-01],\n",
       "       [-1.23063835e-01, -2.65155610e-01, -5.12971709e-01],\n",
       "       [ 7.52243764e-01,  1.78549921e+00,  5.33269242e-01],\n",
       "       [ 7.51070430e-01,  4.29638622e-01, -1.03196856e+00],\n",
       "       [-1.09341154e+00, -1.42539452e+00, -2.33546540e-01],\n",
       "       [ 1.34477773e+00,  1.32005453e+00,  1.16935983e+00],\n",
       "       [ 1.08664412e+00, -5.14741887e-01,  6.97960611e-02],\n",
       "       [-5.16130920e-01,  4.36384197e-01, -1.10860601e+00],\n",
       "       [-1.82903899e-01,  1.32680011e+00,  1.46239552e-01],\n",
       "       [-9.11544675e-01, -9.32967541e-01, -2.09602940e+00],\n",
       "       [-1.35154514e+00,  9.91054437e-02, -1.82528892e+00],\n",
       "       [-8.66904627e-02, -5.82197638e-01, -9.58958009e-01],\n",
       "       [ 1.06435076e+00,  2.94727121e-01, -8.96721665e-01],\n",
       "       [ 8.22643839e-01,  1.40100143e+00,  6.49448899e-02],\n",
       "       [ 6.14963618e-01,  5.03839947e-01,  5.74243141e-01],\n",
       "       [-4.32824165e-01, -5.95688788e-01,  2.75088945e-01],\n",
       "       [-1.40669187e+00,  6.65733749e-01, -3.51473046e-01],\n",
       "       [-2.02850586e-01, -1.17580824e+00,  2.57040634e-01],\n",
       "       [ 7.82750463e-01,  9.91054437e-02, -7.43376950e-01],\n",
       "       [-1.52285199e+00,  1.38751028e+00,  2.21230345e+00],\n",
       "       [-1.39847853e+00, -1.45237682e+00, -2.72184721e-01],\n",
       "       [-3.07277364e-01,  3.62182871e-01, -6.67964297e-01],\n",
       "       [-1.65778547e+00,  4.56620922e-01, -1.02368674e+00],\n",
       "       [-3.60077421e-01, -1.04089674e+00, -1.42262920e-01],\n",
       "       [-8.24717916e-01,  2.40762520e-01, -1.84785890e-01],\n",
       "       [ 1.09251079e+00, -1.28373744e+00,  5.00097255e-01],\n",
       "       [-8.37624596e-01, -1.90954284e-01,  3.10847139e-01],\n",
       "       [-9.18584682e-01,  1.44147488e+00,  4.45416251e-01],\n",
       "       [ 7.83923798e-01,  1.34029126e+00,  3.68028190e-01],\n",
       "       [ 5.45736878e-01, -3.19120210e-01,  1.52876032e+00],\n",
       "       [-8.25891250e-01,  2.94727121e-01, -5.50607887e-01],\n",
       "       [-4.22264154e-01,  1.17839745e+00,  1.44989635e+00],\n",
       "       [-6.85091100e-01,  1.59815619e-01,  1.76266471e+00],\n",
       "       [-4.32824165e-01,  1.66407886e+00,  1.05460963e+00],\n",
       "       [-1.45357192e-01, -1.22977284e+00, -1.03196856e+00],\n",
       "       [-1.38557185e+00, -1.45912240e+00,  3.32972847e-01],\n",
       "       [ 8.33203850e-01,  6.99461624e-01,  1.31380751e+00],\n",
       "       [ 1.22275093e+00,  9.01828876e-01,  1.73002768e+00],\n",
       "       [-4.60984195e-01, -6.15925513e-01, -9.04374525e-01],\n",
       "       [ 1.94909837e-01,  5.71295698e-01,  1.10721196e+00],\n",
       "       [ 5.97363599e-01, -1.32421089e+00, -1.34628742e+00],\n",
       "       [ 4.48350107e-01, -1.43735259e-01, -2.00928232e-01],\n",
       "       [ 1.67800475e+00,  1.29307223e+00,  1.04753830e+00],\n",
       "       [-1.34797181e-01,  1.25259878e+00,  8.54842234e-01],\n",
       "       [ 8.88350576e-01, -1.27024629e+00,  9.97647269e-01],\n",
       "       [ 1.56653796e+00, -8.79002940e-01, -2.33546540e-01],\n",
       "       [ 4.83550145e-01, -4.00067111e-01, -4.33693178e-01],\n",
       "       [ 1.07373744e+00,  7.53426225e-01, -1.41051815e+00],\n",
       "       [-1.03117147e-01,  1.56964081e+00,  1.31380751e+00],\n",
       "       [-1.42781189e+00, -8.18292765e-01,  1.83667495e-01],\n",
       "       [-6.60451074e-01, -1.54006930e+00, -1.36999665e-01],\n",
       "       [-1.56743871e+00, -1.53332372e+00, -1.39225166e-02],\n",
       "       [ 1.27555099e+00,  2.54253670e-01, -1.38872192e+00],\n",
       "       [ 9.28243952e-01, -1.00716887e+00,  1.23049329e+00],\n",
       "       [ 1.11480415e+00,  1.00301250e+00, -1.36999665e-01],\n",
       "       [ 3.40403326e-01, -5.21487462e-01, -1.79188492e+00],\n",
       "       [ 7.38163749e-01, -1.70717559e-01, -9.19786292e-01],\n",
       "       [-8.03597893e-01,  1.59662311e+00,  3.98362775e-01],\n",
       "       [-8.39971265e-01,  8.00645250e-01,  1.10024180e+00],\n",
       "       [-8.78637973e-02, -5.95688788e-01, -1.39225166e-02],\n",
       "       [-8.24717916e-01, -1.50634142e+00, -6.28059954e-01],\n",
       "       [-2.46263966e-01,  9.28811176e-01,  1.93084453e+00],\n",
       "       [-1.49351863e+00, -4.81014012e-01, -1.84785890e-01],\n",
       "       [-6.32237711e-02,  2.47508095e-01,  8.66037558e-01],\n",
       "       [-1.50055864e+00, -9.65162331e-02,  1.01911391e+00],\n",
       "       [ 9.07123929e-01, -1.39841222e+00, -5.76092017e-01],\n",
       "       [-2.76770665e-01,  7.73662950e-01, -7.93026297e-01],\n",
       "       [ 9.71657331e-01,  6.18514724e-01,  1.78624739e+00],\n",
       "       [-6.97997781e-01, -7.64328164e-01,  1.04894337e-03],\n",
       "       [-1.62962544e+00,  1.06372268e+00,  1.02624103e+00],\n",
       "       [-7.80131201e-01, -1.56030602e+00, -1.04029502e+00],\n",
       "       [ 8.63710550e-01,  1.74502576e+00, -1.67050213e+00],\n",
       "       [-1.02183813e+00, -7.50837014e-01,  7.48535335e-01],\n",
       "       [-1.71293220e+00,  1.11094170e+00, -1.08262329e+00],\n",
       "       [ 1.39053778e+00, -1.36468434e+00,  7.44675727e-01],\n",
       "       [-1.62258543e+00,  2.74490395e-01, -1.84256081e+00],\n",
       "       [ 8.57843877e-01,  6.99461624e-01,  8.24807889e-01],\n",
       "       [-1.28818508e+00,  1.04348595e+00,  1.52563488e+00],\n",
       "       [-1.15442493e+00,  1.61011426e+00, -1.09989430e+00],\n",
       "       [-1.42077188e+00,  1.07046825e+00, -1.03196856e+00],\n",
       "       [ 1.49027122e+00,  3.89165171e-01,  1.33681765e+00],\n",
       "       [-1.21661167e+00,  1.86797920e-01, -2.83343774e-01],\n",
       "       [ 4.48350107e-01,  1.40100143e+00, -1.91615048e+00],\n",
       "       [-8.59917953e-01, -4.13558261e-01, -7.57424197e-01],\n",
       "       [ 5.51603551e-01,  8.27627550e-01,  1.82721320e+00],\n",
       "       [ 8.66057219e-01,  6.79224899e-01,  5.41507097e-01],\n",
       "       [-4.93837563e-01, -1.17580824e+00,  3.94048228e-01],\n",
       "       [-5.92397668e-01, -5.61960912e-01,  5.82374145e-01],\n",
       "       [-7.49571169e-02, -1.43214010e+00, -1.05708482e+00],\n",
       "       [ 1.09603080e+00, -1.06787904e+00, -1.08262329e+00],\n",
       "       [ 1.13240417e+00,  1.74502576e+00,  7.94505962e-01],\n",
       "       [-1.27527840e+00,  1.15816073e+00, -8.29353714e-01],\n",
       "       [-1.19666498e+00,  1.80052344e-01, -2.77757477e-01],\n",
       "       [ 1.57240464e+00, -6.22671088e-01,  5.04263286e-01],\n",
       "       [-3.01410691e-01, -9.93677716e-01,  9.57953165e-01],\n",
       "       [ 5.97363599e-01,  1.14129679e-02, -6.67964297e-01],\n",
       "       [ 2.88776604e-01,  1.11768728e+00,  5.33269242e-01],\n",
       "       [ 4.82376810e-01, -1.36989683e-01, -1.01544887e+00],\n",
       "       [-1.67303882e+00, -7.77819314e-01, -1.36731851e+00],\n",
       "       [-6.19384363e-01,  1.37401913e+00,  1.02267923e+00],\n",
       "       [ 3.65096685e-02, -1.47261355e+00, -7.98360517e-02],\n",
       "       [-1.58386539e+00,  9.28811176e-01,  8.28576670e-01],\n",
       "       [-1.75863891e-01, -3.19120210e-01,  4.02671073e-01],\n",
       "       [ 3.02856619e-01, -3.39356935e-01,  2.29750531e-01],\n",
       "       [-7.15597799e-01,  8.54609851e-01,  9.79659420e-01],\n",
       "       [ 4.89416818e-01, -3.39356935e-01, -1.39225166e-02],\n",
       "       [ 1.97256506e-01,  9.22065601e-01, -1.19874940e+00],\n",
       "       [-3.45997406e-01, -5.68706487e-01, -1.39956958e+00],\n",
       "       [ 1.03032406e+00, -1.33095647e+00,  2.08747422e+00],\n",
       "       [-1.51111865e+00,  9.76030202e-01, -2.22623548e-01],\n",
       "       [ 7.05310381e-01, -1.20953612e+00, -3.45716135e-01],\n",
       "       [ 8.06217155e-01,  3.16496931e-02,  1.26737403e+00],\n",
       "       [ 1.61464468e+00, -8.45275065e-01, -1.29521906e+00],\n",
       "       [-1.13447825e+00, -7.77819314e-01, -4.03971613e-01],\n",
       "       [ 2.08989852e-01, -1.50480834e-01,  9.10459436e-01],\n",
       "       [-1.49117196e+00, -2.04445434e-01, -4.88257728e-01],\n",
       "       [ 2.54749901e-01, -1.08137019e+00, -7.64488656e-01],\n",
       "       [ 8.88350576e-01, -1.33095647e+00, -7.43376950e-01],\n",
       "       [ 1.52781792e+00,  1.73828018e+00,  6.98005613e-01],\n",
       "       [ 1.19341757e+00,  4.76857647e-01, -2.94557396e-01],\n",
       "       [ 2.75869923e-01, -1.03415117e+00,  4.28391148e-01],\n",
       "       [ 1.52547125e+00, -1.40515780e+00, -1.10851909e-01],\n",
       "       [ 2.21896533e-01, -8.85748515e-01, -4.51725665e-01],\n",
       "       [ 1.16296420e-01, -1.38492107e+00, -1.11736972e+00],\n",
       "       [ 8.42590527e-01, -1.19604497e+00,  7.46383555e-02],\n",
       "       [-1.06173150e+00, -1.17580824e+00,  1.83667495e-01],\n",
       "       [ 1.65336472e+00,  1.34029126e+00,  1.71511062e+00],\n",
       "       [ 1.25677764e+00, -1.23498533e-01,  1.97572788e-01],\n",
       "       [ 6.84190358e-01,  1.48194833e+00, -3.34246653e-01],\n",
       "       [-8.43437935e-02, -1.41864895e+00,  3.56486734e-02],\n",
       "       [ 5.21096851e-01,  3.75674021e-01, -4.15811178e-01],\n",
       "       [ 1.63459137e+00, -6.22671088e-01, -1.60228778e+00],\n",
       "       [-1.50173197e+00, -7.44091439e-01, -1.26507075e-01],\n",
       "       [-1.25767838e+00,  1.21212533e+00, -1.35675764e+00],\n",
       "       [-8.35277927e-01, -8.31783915e-01, -1.33590556e+00],\n",
       "       [-1.51933199e+00, -1.28373744e+00,  2.70587593e-01],\n",
       "       [ 2.35976548e-01,  1.27283550e+00, -1.61554320e+00],\n",
       "       [ 3.53363339e-02,  8.41118701e-01, -1.33590556e+00],\n",
       "       [-1.27293173e+00, -1.31071974e+00, -6.95037318e-01],\n",
       "       [-6.15864360e-01, -1.22977284e+00, -1.13505699e+00],\n",
       "       [ 3.55656675e-01, -9.32967541e-01, -1.29521906e+00],\n",
       "       [ 1.60643134e+00,  1.27283550e+00,  1.54435201e+00],\n",
       "       [ 1.00216403e+00, -9.80186566e-01, -1.08262329e+00]])"
      ]
     },
     "execution_count": 52,
     "metadata": {},
     "output_type": "execute_result"
    }
   ],
   "source": [
    "x"
   ]
  },
  {
   "cell_type": "markdown",
   "id": "ce8a04b7",
   "metadata": {},
   "source": [
    "### CREATING THE MODEL"
   ]
  },
  {
   "cell_type": "code",
   "execution_count": 53,
   "id": "0b2ee3a4",
   "metadata": {},
   "outputs": [],
   "source": [
    "from sklearn.linear_model import LinearRegression\n",
    "from sklearn.tree import DecisionTreeRegressor\n",
    "from sklearn.neighbors import KNeighborsRegressor\n",
    "from sklearn.svm import SVR\n",
    "from sklearn.linear_model import SGDRegressor\n",
    "\n",
    "\n",
    "from sklearn.ensemble import RandomForestRegressor\n",
    "from sklearn.ensemble import AdaBoostRegressor\n",
    "from sklearn.ensemble import GradientBoostingRegressor\n",
    "\n",
    "\n",
    "from sklearn.model_selection import train_test_split\n",
    "from sklearn.metrics import r2_score,mean_squared_error,mean_absolute_error"
   ]
  },
  {
   "cell_type": "markdown",
   "id": "c6265f8e",
   "metadata": {},
   "source": [
    "### Linear Regression"
   ]
  },
  {
   "cell_type": "code",
   "execution_count": 54,
   "id": "d46d3e22",
   "metadata": {},
   "outputs": [
    {
     "name": "stdout",
     "output_type": "stream",
     "text": [
      "At random state 51 The model performs very well\n",
      "At random state:- 51\n",
      "Training r2 score is  89.3\n",
      "Testing r2 score is  89.3 \n",
      "\n",
      "\n",
      "At random state 168 The model performs very well\n",
      "At random state:- 168\n",
      "Training r2 score is  89.2\n",
      "Testing r2 score is  89.2 \n",
      "\n",
      "\n",
      "At random state 211 The model performs very well\n",
      "At random state:- 211\n",
      "Training r2 score is  89.3\n",
      "Testing r2 score is  89.3 \n",
      "\n",
      "\n",
      "At random state 309 The model performs very well\n",
      "At random state:- 309\n",
      "Training r2 score is  89.5\n",
      "Testing r2 score is  89.5 \n",
      "\n",
      "\n",
      "At random state 321 The model performs very well\n",
      "At random state:- 321\n",
      "Training r2 score is  89.3\n",
      "Testing r2 score is  89.3 \n",
      "\n",
      "\n",
      "At random state 327 The model performs very well\n",
      "At random state:- 327\n",
      "Training r2 score is  89.4\n",
      "Testing r2 score is  89.4 \n",
      "\n",
      "\n",
      "At random state 536 The model performs very well\n",
      "At random state:- 536\n",
      "Training r2 score is  89.3\n",
      "Testing r2 score is  89.3 \n",
      "\n",
      "\n",
      "At random state 761 The model performs very well\n",
      "At random state:- 761\n",
      "Training r2 score is  89.3\n",
      "Testing r2 score is  89.3 \n",
      "\n",
      "\n",
      "At random state 835 The model performs very well\n",
      "At random state:- 835\n",
      "Training r2 score is  89.4\n",
      "Testing r2 score is  89.4 \n",
      "\n",
      "\n",
      "At random state 939 The model performs very well\n",
      "At random state:- 939\n",
      "Training r2 score is  89.4\n",
      "Testing r2 score is  89.4 \n",
      "\n",
      "\n",
      "At random state 964 The model performs very well\n",
      "At random state:- 964\n",
      "Training r2 score is  89.5\n",
      "Testing r2 score is  89.5 \n",
      "\n",
      "\n"
     ]
    }
   ],
   "source": [
    "# CHECKING THE RANDOM STATE FOR LINEAR REGRESSION\n",
    "lr = LinearRegression()\n",
    "for i in range(0,1000):\n",
    "    x_train,x_test,y_train,y_test = train_test_split(x,y,test_size=0.30,random_state=i)\n",
    "    lr.fit(x_train,y_train)\n",
    "    pred_train = lr.predict(x_train)\n",
    "    pred_test = lr.predict(x_test)\n",
    "    if round(r2_score(y_train,pred_train)*100,1) == round(r2_score(y_test,pred_test)*100,1):\n",
    "        print('At random state',i,'The model performs very well')\n",
    "        print('At random state:-',i)\n",
    "        print('Training r2 score is ', round(r2_score(y_train,pred_train)*100,1))\n",
    "        print('Testing r2 score is ', round(r2_score(y_test,pred_test)*100,1), '\\n\\n')"
   ]
  },
  {
   "cell_type": "code",
   "execution_count": 55,
   "id": "5b01c55f",
   "metadata": {},
   "outputs": [],
   "source": [
    "x_train,x_test,y_train,y_test = train_test_split(x,y,test_size=.30,random_state=51)"
   ]
  },
  {
   "cell_type": "code",
   "execution_count": 56,
   "id": "56fd41f2",
   "metadata": {},
   "outputs": [
    {
     "data": {
      "text/html": [
       "<style>#sk-container-id-1 {color: black;background-color: white;}#sk-container-id-1 pre{padding: 0;}#sk-container-id-1 div.sk-toggleable {background-color: white;}#sk-container-id-1 label.sk-toggleable__label {cursor: pointer;display: block;width: 100%;margin-bottom: 0;padding: 0.3em;box-sizing: border-box;text-align: center;}#sk-container-id-1 label.sk-toggleable__label-arrow:before {content: \"▸\";float: left;margin-right: 0.25em;color: #696969;}#sk-container-id-1 label.sk-toggleable__label-arrow:hover:before {color: black;}#sk-container-id-1 div.sk-estimator:hover label.sk-toggleable__label-arrow:before {color: black;}#sk-container-id-1 div.sk-toggleable__content {max-height: 0;max-width: 0;overflow: hidden;text-align: left;background-color: #f0f8ff;}#sk-container-id-1 div.sk-toggleable__content pre {margin: 0.2em;color: black;border-radius: 0.25em;background-color: #f0f8ff;}#sk-container-id-1 input.sk-toggleable__control:checked~div.sk-toggleable__content {max-height: 200px;max-width: 100%;overflow: auto;}#sk-container-id-1 input.sk-toggleable__control:checked~label.sk-toggleable__label-arrow:before {content: \"▾\";}#sk-container-id-1 div.sk-estimator input.sk-toggleable__control:checked~label.sk-toggleable__label {background-color: #d4ebff;}#sk-container-id-1 div.sk-label input.sk-toggleable__control:checked~label.sk-toggleable__label {background-color: #d4ebff;}#sk-container-id-1 input.sk-hidden--visually {border: 0;clip: rect(1px 1px 1px 1px);clip: rect(1px, 1px, 1px, 1px);height: 1px;margin: -1px;overflow: hidden;padding: 0;position: absolute;width: 1px;}#sk-container-id-1 div.sk-estimator {font-family: monospace;background-color: #f0f8ff;border: 1px dotted black;border-radius: 0.25em;box-sizing: border-box;margin-bottom: 0.5em;}#sk-container-id-1 div.sk-estimator:hover {background-color: #d4ebff;}#sk-container-id-1 div.sk-parallel-item::after {content: \"\";width: 100%;border-bottom: 1px solid gray;flex-grow: 1;}#sk-container-id-1 div.sk-label:hover label.sk-toggleable__label {background-color: #d4ebff;}#sk-container-id-1 div.sk-serial::before {content: \"\";position: absolute;border-left: 1px solid gray;box-sizing: border-box;top: 0;bottom: 0;left: 50%;z-index: 0;}#sk-container-id-1 div.sk-serial {display: flex;flex-direction: column;align-items: center;background-color: white;padding-right: 0.2em;padding-left: 0.2em;position: relative;}#sk-container-id-1 div.sk-item {position: relative;z-index: 1;}#sk-container-id-1 div.sk-parallel {display: flex;align-items: stretch;justify-content: center;background-color: white;position: relative;}#sk-container-id-1 div.sk-item::before, #sk-container-id-1 div.sk-parallel-item::before {content: \"\";position: absolute;border-left: 1px solid gray;box-sizing: border-box;top: 0;bottom: 0;left: 50%;z-index: -1;}#sk-container-id-1 div.sk-parallel-item {display: flex;flex-direction: column;z-index: 1;position: relative;background-color: white;}#sk-container-id-1 div.sk-parallel-item:first-child::after {align-self: flex-end;width: 50%;}#sk-container-id-1 div.sk-parallel-item:last-child::after {align-self: flex-start;width: 50%;}#sk-container-id-1 div.sk-parallel-item:only-child::after {width: 0;}#sk-container-id-1 div.sk-dashed-wrapped {border: 1px dashed gray;margin: 0 0.4em 0.5em 0.4em;box-sizing: border-box;padding-bottom: 0.4em;background-color: white;}#sk-container-id-1 div.sk-label label {font-family: monospace;font-weight: bold;display: inline-block;line-height: 1.2em;}#sk-container-id-1 div.sk-label-container {text-align: center;}#sk-container-id-1 div.sk-container {/* jupyter's `normalize.less` sets `[hidden] { display: none; }` but bootstrap.min.css set `[hidden] { display: none !important; }` so we also need the `!important` here to be able to override the default hidden behavior on the sphinx rendered scikit-learn.org. See: https://github.com/scikit-learn/scikit-learn/issues/21755 */display: inline-block !important;position: relative;}#sk-container-id-1 div.sk-text-repr-fallback {display: none;}</style><div id=\"sk-container-id-1\" class=\"sk-top-container\"><div class=\"sk-text-repr-fallback\"><pre>LinearRegression()</pre><b>In a Jupyter environment, please rerun this cell to show the HTML representation or trust the notebook. <br />On GitHub, the HTML representation is unable to render, please try loading this page with nbviewer.org.</b></div><div class=\"sk-container\" hidden><div class=\"sk-item\"><div class=\"sk-estimator sk-toggleable\"><input class=\"sk-toggleable__control sk-hidden--visually\" id=\"sk-estimator-id-1\" type=\"checkbox\" checked><label for=\"sk-estimator-id-1\" class=\"sk-toggleable__label sk-toggleable__label-arrow\">LinearRegression</label><div class=\"sk-toggleable__content\"><pre>LinearRegression()</pre></div></div></div></div></div>"
      ],
      "text/plain": [
       "LinearRegression()"
      ]
     },
     "execution_count": 56,
     "metadata": {},
     "output_type": "execute_result"
    }
   ],
   "source": [
    "lr.fit(x_train,y_train)"
   ]
  },
  {
   "cell_type": "code",
   "execution_count": 57,
   "id": "6737d65a",
   "metadata": {},
   "outputs": [],
   "source": [
    "pred = lr.predict(x_test)"
   ]
  },
  {
   "cell_type": "code",
   "execution_count": 58,
   "id": "4b76255d",
   "metadata": {},
   "outputs": [
    {
     "data": {
      "text/plain": [
       "0.8926399162265253"
      ]
     },
     "execution_count": 58,
     "metadata": {},
     "output_type": "execute_result"
    }
   ],
   "source": [
    "r2_score(y_test,pred)"
   ]
  },
  {
   "cell_type": "code",
   "execution_count": 59,
   "id": "197b9545",
   "metadata": {},
   "outputs": [
    {
     "data": {
      "text/plain": [
       "2.6091658532752033"
      ]
     },
     "execution_count": 59,
     "metadata": {},
     "output_type": "execute_result"
    }
   ],
   "source": [
    "mean_squared_error(y_test,pred)"
   ]
  },
  {
   "cell_type": "code",
   "execution_count": 60,
   "id": "5dad73aa",
   "metadata": {},
   "outputs": [
    {
     "data": {
      "text/plain": [
       "1.3258482248628383"
      ]
     },
     "execution_count": 60,
     "metadata": {},
     "output_type": "execute_result"
    }
   ],
   "source": [
    "mean_absolute_error(y_test,pred)"
   ]
  },
  {
   "cell_type": "code",
   "execution_count": 61,
   "id": "181ab61e",
   "metadata": {},
   "outputs": [
    {
     "data": {
      "text/plain": [
       "1.615291259579895"
      ]
     },
     "execution_count": 61,
     "metadata": {},
     "output_type": "execute_result"
    }
   ],
   "source": [
    "# root mean squared error\n",
    "np.sqrt(mean_squared_error(y_test,pred))"
   ]
  },
  {
   "cell_type": "code",
   "execution_count": 62,
   "id": "8569a688",
   "metadata": {},
   "outputs": [],
   "source": [
    "# CROSS VALIDATION for linear Regression\n",
    "\n",
    "pred_lr = lr.predict(x_test)\n",
    "from sklearn.model_selection import cross_val_score\n",
    "lrs = r2_score(y_test,pred_lr)"
   ]
  },
  {
   "cell_type": "code",
   "execution_count": 63,
   "id": "6dacda21",
   "metadata": {},
   "outputs": [
    {
     "name": "stdout",
     "output_type": "stream",
     "text": [
      "[0.88773334 0.91453399 0.84871665 0.90260192]\n",
      "At cv:-  4\n",
      "Cross validation score is:-  88.83964730592852\n",
      "r2_score is:-  89.26399162265253\n",
      "\n",
      "\n",
      "[0.87927341 0.91751522 0.92568478 0.81065809 0.89557158]\n",
      "At cv:-  5\n",
      "Cross validation score is:-  88.57406146589945\n",
      "r2_score is:-  89.26399162265253\n",
      "\n",
      "\n",
      "[0.87854655 0.9149545  0.90581225 0.82303266 0.89515599 0.90386267]\n",
      "At cv:-  6\n",
      "Cross validation score is:-  88.68941047683484\n",
      "r2_score is:-  89.26399162265253\n",
      "\n",
      "\n",
      "[0.86876067 0.91358788 0.89512333 0.93158231 0.79167006 0.87126896\n",
      " 0.91628722]\n",
      "At cv:-  7\n",
      "Cross validation score is:-  88.40400627916499\n",
      "r2_score is:-  89.26399162265253\n",
      "\n",
      "\n",
      "[0.86287717 0.9016666  0.91688974 0.9075872  0.90400255 0.80726319\n",
      " 0.89849476 0.90731381]\n",
      "At cv:-  8\n",
      "Cross validation score is:-  88.82618783932388\n",
      "r2_score is:-  89.26399162265253\n",
      "\n",
      "\n",
      "[0.88067506 0.86418703 0.92442946 0.86912944 0.93453342 0.74881545\n",
      " 0.92063347 0.88694644 0.90188113]\n",
      "At cv:-  9\n",
      "Cross validation score is:-  88.12478781412287\n",
      "r2_score is:-  89.26399162265253\n",
      "\n",
      "\n"
     ]
    }
   ],
   "source": [
    "for i in range(4,10):\n",
    "    lrcscore = cross_val_score(lr,x,y,cv=i)\n",
    "    print(lrcscore)\n",
    "    lsc = lrcscore.mean()\n",
    "    print('At cv:- ',i)\n",
    "    print('Cross validation score is:- ',lsc*100)\n",
    "    print('r2_score is:- ',lrs*100)\n",
    "    print('\\n')"
   ]
  },
  {
   "cell_type": "code",
   "execution_count": 64,
   "id": "fc088406",
   "metadata": {},
   "outputs": [
    {
     "name": "stdout",
     "output_type": "stream",
     "text": [
      "The cv score of linear Regression is  0.8883964730592853 \n",
      "The accuracy score of linear regression is:  0.8926399162265253\n"
     ]
    }
   ],
   "source": [
    "# slecting cv=4 as the best cv parameter\n",
    "lrcscore_selected = cross_val_score(lr,x,y,cv=4).mean()\n",
    "print('The cv score of linear Regression is ',lrcscore_selected,'\\nThe accuracy score of linear regression is: ',lrs)\n",
    "\n",
    "# Linear Regression is working 89%"
   ]
  },
  {
   "cell_type": "code",
   "execution_count": 65,
   "id": "7d3c5860",
   "metadata": {},
   "outputs": [],
   "source": [
    "dtr = DecisionTreeRegressor()\n",
    "\n",
    "knr = KNeighborsRegressor()\n",
    "\n",
    "svr = SVR()\n",
    "\n",
    "sgdr = SGDRegressor()\n",
    "\n",
    "rfr = RandomForestRegressor()\n",
    "\n",
    "abr = AdaBoostRegressor()\n",
    "\n",
    "gbr = GradientBoostingRegressor()"
   ]
  },
  {
   "cell_type": "code",
   "execution_count": 66,
   "id": "fda9900c",
   "metadata": {},
   "outputs": [],
   "source": [
    "# HYPERPARAMETER TUNING WITH DECESION Tree regresor\n",
    "from sklearn.model_selection import GridSearchCV"
   ]
  },
  {
   "cell_type": "markdown",
   "id": "548c14d5",
   "metadata": {},
   "source": [
    "### DecisionTreeRegressor"
   ]
  },
  {
   "cell_type": "code",
   "execution_count": 67,
   "id": "f5198dfd",
   "metadata": {},
   "outputs": [],
   "source": [
    "# creating parameter grid for dtr\n",
    "param_grid_dtr = {'criterion':[\"squared_error\", \"friedman_mse\", \"absolute_error\",\"poisson\"],\n",
    "             'splitter':[\"best\", \"random\"],'max_depth':[2,4,8,10,None],'max_features':[0.25,0.5,1.0],'min_samples_split':[0.25,0.5,1.0]}"
   ]
  },
  {
   "cell_type": "code",
   "execution_count": 68,
   "id": "637596d7",
   "metadata": {},
   "outputs": [],
   "source": [
    "dtr_search = GridSearchCV(dtr,param_grid=param_grid_dtr,cv=4)"
   ]
  },
  {
   "cell_type": "code",
   "execution_count": 69,
   "id": "123bf063",
   "metadata": {},
   "outputs": [
    {
     "data": {
      "text/html": [
       "<style>#sk-container-id-2 {color: black;background-color: white;}#sk-container-id-2 pre{padding: 0;}#sk-container-id-2 div.sk-toggleable {background-color: white;}#sk-container-id-2 label.sk-toggleable__label {cursor: pointer;display: block;width: 100%;margin-bottom: 0;padding: 0.3em;box-sizing: border-box;text-align: center;}#sk-container-id-2 label.sk-toggleable__label-arrow:before {content: \"▸\";float: left;margin-right: 0.25em;color: #696969;}#sk-container-id-2 label.sk-toggleable__label-arrow:hover:before {color: black;}#sk-container-id-2 div.sk-estimator:hover label.sk-toggleable__label-arrow:before {color: black;}#sk-container-id-2 div.sk-toggleable__content {max-height: 0;max-width: 0;overflow: hidden;text-align: left;background-color: #f0f8ff;}#sk-container-id-2 div.sk-toggleable__content pre {margin: 0.2em;color: black;border-radius: 0.25em;background-color: #f0f8ff;}#sk-container-id-2 input.sk-toggleable__control:checked~div.sk-toggleable__content {max-height: 200px;max-width: 100%;overflow: auto;}#sk-container-id-2 input.sk-toggleable__control:checked~label.sk-toggleable__label-arrow:before {content: \"▾\";}#sk-container-id-2 div.sk-estimator input.sk-toggleable__control:checked~label.sk-toggleable__label {background-color: #d4ebff;}#sk-container-id-2 div.sk-label input.sk-toggleable__control:checked~label.sk-toggleable__label {background-color: #d4ebff;}#sk-container-id-2 input.sk-hidden--visually {border: 0;clip: rect(1px 1px 1px 1px);clip: rect(1px, 1px, 1px, 1px);height: 1px;margin: -1px;overflow: hidden;padding: 0;position: absolute;width: 1px;}#sk-container-id-2 div.sk-estimator {font-family: monospace;background-color: #f0f8ff;border: 1px dotted black;border-radius: 0.25em;box-sizing: border-box;margin-bottom: 0.5em;}#sk-container-id-2 div.sk-estimator:hover {background-color: #d4ebff;}#sk-container-id-2 div.sk-parallel-item::after {content: \"\";width: 100%;border-bottom: 1px solid gray;flex-grow: 1;}#sk-container-id-2 div.sk-label:hover label.sk-toggleable__label {background-color: #d4ebff;}#sk-container-id-2 div.sk-serial::before {content: \"\";position: absolute;border-left: 1px solid gray;box-sizing: border-box;top: 0;bottom: 0;left: 50%;z-index: 0;}#sk-container-id-2 div.sk-serial {display: flex;flex-direction: column;align-items: center;background-color: white;padding-right: 0.2em;padding-left: 0.2em;position: relative;}#sk-container-id-2 div.sk-item {position: relative;z-index: 1;}#sk-container-id-2 div.sk-parallel {display: flex;align-items: stretch;justify-content: center;background-color: white;position: relative;}#sk-container-id-2 div.sk-item::before, #sk-container-id-2 div.sk-parallel-item::before {content: \"\";position: absolute;border-left: 1px solid gray;box-sizing: border-box;top: 0;bottom: 0;left: 50%;z-index: -1;}#sk-container-id-2 div.sk-parallel-item {display: flex;flex-direction: column;z-index: 1;position: relative;background-color: white;}#sk-container-id-2 div.sk-parallel-item:first-child::after {align-self: flex-end;width: 50%;}#sk-container-id-2 div.sk-parallel-item:last-child::after {align-self: flex-start;width: 50%;}#sk-container-id-2 div.sk-parallel-item:only-child::after {width: 0;}#sk-container-id-2 div.sk-dashed-wrapped {border: 1px dashed gray;margin: 0 0.4em 0.5em 0.4em;box-sizing: border-box;padding-bottom: 0.4em;background-color: white;}#sk-container-id-2 div.sk-label label {font-family: monospace;font-weight: bold;display: inline-block;line-height: 1.2em;}#sk-container-id-2 div.sk-label-container {text-align: center;}#sk-container-id-2 div.sk-container {/* jupyter's `normalize.less` sets `[hidden] { display: none; }` but bootstrap.min.css set `[hidden] { display: none !important; }` so we also need the `!important` here to be able to override the default hidden behavior on the sphinx rendered scikit-learn.org. See: https://github.com/scikit-learn/scikit-learn/issues/21755 */display: inline-block !important;position: relative;}#sk-container-id-2 div.sk-text-repr-fallback {display: none;}</style><div id=\"sk-container-id-2\" class=\"sk-top-container\"><div class=\"sk-text-repr-fallback\"><pre>GridSearchCV(cv=4, estimator=DecisionTreeRegressor(),\n",
       "             param_grid={&#x27;criterion&#x27;: [&#x27;squared_error&#x27;, &#x27;friedman_mse&#x27;,\n",
       "                                       &#x27;absolute_error&#x27;, &#x27;poisson&#x27;],\n",
       "                         &#x27;max_depth&#x27;: [2, 4, 8, 10, None],\n",
       "                         &#x27;max_features&#x27;: [0.25, 0.5, 1.0],\n",
       "                         &#x27;min_samples_split&#x27;: [0.25, 0.5, 1.0],\n",
       "                         &#x27;splitter&#x27;: [&#x27;best&#x27;, &#x27;random&#x27;]})</pre><b>In a Jupyter environment, please rerun this cell to show the HTML representation or trust the notebook. <br />On GitHub, the HTML representation is unable to render, please try loading this page with nbviewer.org.</b></div><div class=\"sk-container\" hidden><div class=\"sk-item sk-dashed-wrapped\"><div class=\"sk-label-container\"><div class=\"sk-label sk-toggleable\"><input class=\"sk-toggleable__control sk-hidden--visually\" id=\"sk-estimator-id-2\" type=\"checkbox\" ><label for=\"sk-estimator-id-2\" class=\"sk-toggleable__label sk-toggleable__label-arrow\">GridSearchCV</label><div class=\"sk-toggleable__content\"><pre>GridSearchCV(cv=4, estimator=DecisionTreeRegressor(),\n",
       "             param_grid={&#x27;criterion&#x27;: [&#x27;squared_error&#x27;, &#x27;friedman_mse&#x27;,\n",
       "                                       &#x27;absolute_error&#x27;, &#x27;poisson&#x27;],\n",
       "                         &#x27;max_depth&#x27;: [2, 4, 8, 10, None],\n",
       "                         &#x27;max_features&#x27;: [0.25, 0.5, 1.0],\n",
       "                         &#x27;min_samples_split&#x27;: [0.25, 0.5, 1.0],\n",
       "                         &#x27;splitter&#x27;: [&#x27;best&#x27;, &#x27;random&#x27;]})</pre></div></div></div><div class=\"sk-parallel\"><div class=\"sk-parallel-item\"><div class=\"sk-item\"><div class=\"sk-label-container\"><div class=\"sk-label sk-toggleable\"><input class=\"sk-toggleable__control sk-hidden--visually\" id=\"sk-estimator-id-3\" type=\"checkbox\" ><label for=\"sk-estimator-id-3\" class=\"sk-toggleable__label sk-toggleable__label-arrow\">estimator: DecisionTreeRegressor</label><div class=\"sk-toggleable__content\"><pre>DecisionTreeRegressor()</pre></div></div></div><div class=\"sk-serial\"><div class=\"sk-item\"><div class=\"sk-estimator sk-toggleable\"><input class=\"sk-toggleable__control sk-hidden--visually\" id=\"sk-estimator-id-4\" type=\"checkbox\" ><label for=\"sk-estimator-id-4\" class=\"sk-toggleable__label sk-toggleable__label-arrow\">DecisionTreeRegressor</label><div class=\"sk-toggleable__content\"><pre>DecisionTreeRegressor()</pre></div></div></div></div></div></div></div></div></div></div>"
      ],
      "text/plain": [
       "GridSearchCV(cv=4, estimator=DecisionTreeRegressor(),\n",
       "             param_grid={'criterion': ['squared_error', 'friedman_mse',\n",
       "                                       'absolute_error', 'poisson'],\n",
       "                         'max_depth': [2, 4, 8, 10, None],\n",
       "                         'max_features': [0.25, 0.5, 1.0],\n",
       "                         'min_samples_split': [0.25, 0.5, 1.0],\n",
       "                         'splitter': ['best', 'random']})"
      ]
     },
     "execution_count": 69,
     "metadata": {},
     "output_type": "execute_result"
    }
   ],
   "source": [
    "dtr_search.fit(x_train,y_train)"
   ]
  },
  {
   "cell_type": "code",
   "execution_count": 70,
   "id": "5640810a",
   "metadata": {},
   "outputs": [
    {
     "name": "stdout",
     "output_type": "stream",
     "text": [
      "0.8441581778692782\n",
      "DecisionTreeRegressor(max_depth=4, max_features=1.0, min_samples_split=0.25)\n",
      "{'criterion': 'squared_error', 'max_depth': 4, 'max_features': 1.0, 'min_samples_split': 0.25, 'splitter': 'best'}\n"
     ]
    }
   ],
   "source": [
    "print(dtr_search.best_score_)\n",
    "print(dtr_search.best_estimator_)\n",
    "print(dtr_search.best_params_)"
   ]
  },
  {
   "cell_type": "code",
   "execution_count": 71,
   "id": "00c5e137",
   "metadata": {},
   "outputs": [
    {
     "name": "stdout",
     "output_type": "stream",
     "text": [
      "Training score of dtr 0.8843808285916539\n",
      "Accuracy Score of dtr 0.8135724158914243\n",
      "Mean Squared Error of dtr 4.259118756730867\n",
      "Mean Absolute Error of dtr 1.642368871252205\n",
      "Root Mean Squared Error of dtr 2.063763251133925\n",
      "\n",
      "\n"
     ]
    }
   ],
   "source": [
    "dtr = DecisionTreeRegressor(criterion='squared_error',max_depth=4,max_features=1.0,min_samples_split=0.25,splitter='best') # using the best parameters\n",
    "dtr.fit(x_train,y_train)\n",
    "pred_dtr_test= dtr.predict(x_test)\n",
    "pred_dtr_train = dtr.predict(x_train)\n",
    "print('Training score of dtr',r2_score(pred_dtr_train,y_train))\n",
    "print('Accuracy Score of dtr',r2_score(pred_dtr_test,y_test))\n",
    "print('Mean Squared Error of dtr',mean_squared_error(pred_dtr_test,y_test))\n",
    "print('Mean Absolute Error of dtr',mean_absolute_error(pred_dtr_test,y_test))\n",
    "print('Root Mean Squared Error of dtr',np.sqrt(mean_squared_error(pred_dtr_test,y_test)))\n",
    "print('\\n')\n"
   ]
  },
  {
   "cell_type": "markdown",
   "id": "09123d8c",
   "metadata": {},
   "source": [
    "### KNeighborsRegressor"
   ]
  },
  {
   "cell_type": "code",
   "execution_count": 72,
   "id": "e1f103a8",
   "metadata": {},
   "outputs": [],
   "source": [
    "# KNeighbors\n",
    "param_grid_knr = {'n_neighbors':[2,3,4,5,6,7,8,9,10],'weights':['uniform', 'distance'],'algorithm':['auto', 'ball_tree','kd_tree','brute'],'leaf_size':[25,30,35,40]}\n"
   ]
  },
  {
   "cell_type": "code",
   "execution_count": 73,
   "id": "98a57168",
   "metadata": {},
   "outputs": [],
   "source": [
    "knr_search = GridSearchCV(knr,param_grid=param_grid_knr)"
   ]
  },
  {
   "cell_type": "code",
   "execution_count": 74,
   "id": "09475bdc",
   "metadata": {},
   "outputs": [
    {
     "data": {
      "text/html": [
       "<style>#sk-container-id-3 {color: black;background-color: white;}#sk-container-id-3 pre{padding: 0;}#sk-container-id-3 div.sk-toggleable {background-color: white;}#sk-container-id-3 label.sk-toggleable__label {cursor: pointer;display: block;width: 100%;margin-bottom: 0;padding: 0.3em;box-sizing: border-box;text-align: center;}#sk-container-id-3 label.sk-toggleable__label-arrow:before {content: \"▸\";float: left;margin-right: 0.25em;color: #696969;}#sk-container-id-3 label.sk-toggleable__label-arrow:hover:before {color: black;}#sk-container-id-3 div.sk-estimator:hover label.sk-toggleable__label-arrow:before {color: black;}#sk-container-id-3 div.sk-toggleable__content {max-height: 0;max-width: 0;overflow: hidden;text-align: left;background-color: #f0f8ff;}#sk-container-id-3 div.sk-toggleable__content pre {margin: 0.2em;color: black;border-radius: 0.25em;background-color: #f0f8ff;}#sk-container-id-3 input.sk-toggleable__control:checked~div.sk-toggleable__content {max-height: 200px;max-width: 100%;overflow: auto;}#sk-container-id-3 input.sk-toggleable__control:checked~label.sk-toggleable__label-arrow:before {content: \"▾\";}#sk-container-id-3 div.sk-estimator input.sk-toggleable__control:checked~label.sk-toggleable__label {background-color: #d4ebff;}#sk-container-id-3 div.sk-label input.sk-toggleable__control:checked~label.sk-toggleable__label {background-color: #d4ebff;}#sk-container-id-3 input.sk-hidden--visually {border: 0;clip: rect(1px 1px 1px 1px);clip: rect(1px, 1px, 1px, 1px);height: 1px;margin: -1px;overflow: hidden;padding: 0;position: absolute;width: 1px;}#sk-container-id-3 div.sk-estimator {font-family: monospace;background-color: #f0f8ff;border: 1px dotted black;border-radius: 0.25em;box-sizing: border-box;margin-bottom: 0.5em;}#sk-container-id-3 div.sk-estimator:hover {background-color: #d4ebff;}#sk-container-id-3 div.sk-parallel-item::after {content: \"\";width: 100%;border-bottom: 1px solid gray;flex-grow: 1;}#sk-container-id-3 div.sk-label:hover label.sk-toggleable__label {background-color: #d4ebff;}#sk-container-id-3 div.sk-serial::before {content: \"\";position: absolute;border-left: 1px solid gray;box-sizing: border-box;top: 0;bottom: 0;left: 50%;z-index: 0;}#sk-container-id-3 div.sk-serial {display: flex;flex-direction: column;align-items: center;background-color: white;padding-right: 0.2em;padding-left: 0.2em;position: relative;}#sk-container-id-3 div.sk-item {position: relative;z-index: 1;}#sk-container-id-3 div.sk-parallel {display: flex;align-items: stretch;justify-content: center;background-color: white;position: relative;}#sk-container-id-3 div.sk-item::before, #sk-container-id-3 div.sk-parallel-item::before {content: \"\";position: absolute;border-left: 1px solid gray;box-sizing: border-box;top: 0;bottom: 0;left: 50%;z-index: -1;}#sk-container-id-3 div.sk-parallel-item {display: flex;flex-direction: column;z-index: 1;position: relative;background-color: white;}#sk-container-id-3 div.sk-parallel-item:first-child::after {align-self: flex-end;width: 50%;}#sk-container-id-3 div.sk-parallel-item:last-child::after {align-self: flex-start;width: 50%;}#sk-container-id-3 div.sk-parallel-item:only-child::after {width: 0;}#sk-container-id-3 div.sk-dashed-wrapped {border: 1px dashed gray;margin: 0 0.4em 0.5em 0.4em;box-sizing: border-box;padding-bottom: 0.4em;background-color: white;}#sk-container-id-3 div.sk-label label {font-family: monospace;font-weight: bold;display: inline-block;line-height: 1.2em;}#sk-container-id-3 div.sk-label-container {text-align: center;}#sk-container-id-3 div.sk-container {/* jupyter's `normalize.less` sets `[hidden] { display: none; }` but bootstrap.min.css set `[hidden] { display: none !important; }` so we also need the `!important` here to be able to override the default hidden behavior on the sphinx rendered scikit-learn.org. See: https://github.com/scikit-learn/scikit-learn/issues/21755 */display: inline-block !important;position: relative;}#sk-container-id-3 div.sk-text-repr-fallback {display: none;}</style><div id=\"sk-container-id-3\" class=\"sk-top-container\"><div class=\"sk-text-repr-fallback\"><pre>GridSearchCV(estimator=KNeighborsRegressor(),\n",
       "             param_grid={&#x27;algorithm&#x27;: [&#x27;auto&#x27;, &#x27;ball_tree&#x27;, &#x27;kd_tree&#x27;, &#x27;brute&#x27;],\n",
       "                         &#x27;leaf_size&#x27;: [25, 30, 35, 40],\n",
       "                         &#x27;n_neighbors&#x27;: [2, 3, 4, 5, 6, 7, 8, 9, 10],\n",
       "                         &#x27;weights&#x27;: [&#x27;uniform&#x27;, &#x27;distance&#x27;]})</pre><b>In a Jupyter environment, please rerun this cell to show the HTML representation or trust the notebook. <br />On GitHub, the HTML representation is unable to render, please try loading this page with nbviewer.org.</b></div><div class=\"sk-container\" hidden><div class=\"sk-item sk-dashed-wrapped\"><div class=\"sk-label-container\"><div class=\"sk-label sk-toggleable\"><input class=\"sk-toggleable__control sk-hidden--visually\" id=\"sk-estimator-id-5\" type=\"checkbox\" ><label for=\"sk-estimator-id-5\" class=\"sk-toggleable__label sk-toggleable__label-arrow\">GridSearchCV</label><div class=\"sk-toggleable__content\"><pre>GridSearchCV(estimator=KNeighborsRegressor(),\n",
       "             param_grid={&#x27;algorithm&#x27;: [&#x27;auto&#x27;, &#x27;ball_tree&#x27;, &#x27;kd_tree&#x27;, &#x27;brute&#x27;],\n",
       "                         &#x27;leaf_size&#x27;: [25, 30, 35, 40],\n",
       "                         &#x27;n_neighbors&#x27;: [2, 3, 4, 5, 6, 7, 8, 9, 10],\n",
       "                         &#x27;weights&#x27;: [&#x27;uniform&#x27;, &#x27;distance&#x27;]})</pre></div></div></div><div class=\"sk-parallel\"><div class=\"sk-parallel-item\"><div class=\"sk-item\"><div class=\"sk-label-container\"><div class=\"sk-label sk-toggleable\"><input class=\"sk-toggleable__control sk-hidden--visually\" id=\"sk-estimator-id-6\" type=\"checkbox\" ><label for=\"sk-estimator-id-6\" class=\"sk-toggleable__label sk-toggleable__label-arrow\">estimator: KNeighborsRegressor</label><div class=\"sk-toggleable__content\"><pre>KNeighborsRegressor()</pre></div></div></div><div class=\"sk-serial\"><div class=\"sk-item\"><div class=\"sk-estimator sk-toggleable\"><input class=\"sk-toggleable__control sk-hidden--visually\" id=\"sk-estimator-id-7\" type=\"checkbox\" ><label for=\"sk-estimator-id-7\" class=\"sk-toggleable__label sk-toggleable__label-arrow\">KNeighborsRegressor</label><div class=\"sk-toggleable__content\"><pre>KNeighborsRegressor()</pre></div></div></div></div></div></div></div></div></div></div>"
      ],
      "text/plain": [
       "GridSearchCV(estimator=KNeighborsRegressor(),\n",
       "             param_grid={'algorithm': ['auto', 'ball_tree', 'kd_tree', 'brute'],\n",
       "                         'leaf_size': [25, 30, 35, 40],\n",
       "                         'n_neighbors': [2, 3, 4, 5, 6, 7, 8, 9, 10],\n",
       "                         'weights': ['uniform', 'distance']})"
      ]
     },
     "execution_count": 74,
     "metadata": {},
     "output_type": "execute_result"
    }
   ],
   "source": [
    "knr_search.fit(x_train,y_train)"
   ]
  },
  {
   "cell_type": "code",
   "execution_count": 75,
   "id": "4ba876e6",
   "metadata": {},
   "outputs": [
    {
     "name": "stdout",
     "output_type": "stream",
     "text": [
      "0.9338790175403616\n",
      "KNeighborsRegressor(leaf_size=25, n_neighbors=6, weights='distance')\n",
      "{'algorithm': 'auto', 'leaf_size': 25, 'n_neighbors': 6, 'weights': 'distance'}\n"
     ]
    }
   ],
   "source": [
    "print(knr_search.best_score_)\n",
    "print(knr_search.best_estimator_)\n",
    "print(knr_search.best_params_)"
   ]
  },
  {
   "cell_type": "code",
   "execution_count": 76,
   "id": "c3b65655",
   "metadata": {},
   "outputs": [
    {
     "name": "stdout",
     "output_type": "stream",
     "text": [
      "Training score of dtr 1.0\n",
      "Accuracy Score of dtr 0.8784960620953405\n",
      "Mean Squared Error of dtr 2.2795999258064614\n",
      "Mean Absolute Error of dtr 0.9945598852160351\n",
      "Root Mean Squared Error of dtr 1.50983440343849\n",
      "\n",
      "\n"
     ]
    }
   ],
   "source": [
    "knr = KNeighborsRegressor(algorithm='auto',leaf_size=25,n_neighbors=6,weights='distance')# using the best parameters\n",
    "knr.fit(x_train,y_train)\n",
    "pred_knr_test= knr.predict(x_test)\n",
    "pred_knr_train = knr.predict(x_train)\n",
    "print('Training score of knr',r2_score(pred_knr_train,y_train))\n",
    "print('Accuracy Score of knr',r2_score(pred_knr_test,y_test))\n",
    "print('Mean Squared Error of knr',mean_squared_error(pred_knr_test,y_test))\n",
    "print('Mean Absolute Error of knr',mean_absolute_error(pred_knr_test,y_test))\n",
    "print('Root Mean Squared Error of knr',np.sqrt(mean_squared_error(pred_knr_test,y_test)))\n",
    "print('\\n')\n",
    "\n",
    "# 87% from KNeighborsRegressor\n"
   ]
  },
  {
   "cell_type": "markdown",
   "id": "e575582d",
   "metadata": {},
   "source": [
    "### SupportVectorRegressor"
   ]
  },
  {
   "cell_type": "code",
   "execution_count": 104,
   "id": "ad9e36bd",
   "metadata": {},
   "outputs": [],
   "source": [
    "param_grid_svr = {'kernel':['linear', 'poly', 'rbf', 'sigmoid'],\n",
    "                  'degree':[1,2,3,4,5,6],'gamma':['scale','auto'],'coef0':[0.0,0.1,0.2,0.3,0.4,0.5],'shrinking':[True,False],'cache_size':[100,150,200,250,300]}"
   ]
  },
  {
   "cell_type": "code",
   "execution_count": 105,
   "id": "d5af5118",
   "metadata": {},
   "outputs": [],
   "source": [
    "svr_search = GridSearchCV(svr,param_grid=param_grid_svr)"
   ]
  },
  {
   "cell_type": "code",
   "execution_count": 106,
   "id": "73db23aa",
   "metadata": {},
   "outputs": [
    {
     "data": {
      "text/html": [
       "<style>#sk-container-id-5 {color: black;background-color: white;}#sk-container-id-5 pre{padding: 0;}#sk-container-id-5 div.sk-toggleable {background-color: white;}#sk-container-id-5 label.sk-toggleable__label {cursor: pointer;display: block;width: 100%;margin-bottom: 0;padding: 0.3em;box-sizing: border-box;text-align: center;}#sk-container-id-5 label.sk-toggleable__label-arrow:before {content: \"▸\";float: left;margin-right: 0.25em;color: #696969;}#sk-container-id-5 label.sk-toggleable__label-arrow:hover:before {color: black;}#sk-container-id-5 div.sk-estimator:hover label.sk-toggleable__label-arrow:before {color: black;}#sk-container-id-5 div.sk-toggleable__content {max-height: 0;max-width: 0;overflow: hidden;text-align: left;background-color: #f0f8ff;}#sk-container-id-5 div.sk-toggleable__content pre {margin: 0.2em;color: black;border-radius: 0.25em;background-color: #f0f8ff;}#sk-container-id-5 input.sk-toggleable__control:checked~div.sk-toggleable__content {max-height: 200px;max-width: 100%;overflow: auto;}#sk-container-id-5 input.sk-toggleable__control:checked~label.sk-toggleable__label-arrow:before {content: \"▾\";}#sk-container-id-5 div.sk-estimator input.sk-toggleable__control:checked~label.sk-toggleable__label {background-color: #d4ebff;}#sk-container-id-5 div.sk-label input.sk-toggleable__control:checked~label.sk-toggleable__label {background-color: #d4ebff;}#sk-container-id-5 input.sk-hidden--visually {border: 0;clip: rect(1px 1px 1px 1px);clip: rect(1px, 1px, 1px, 1px);height: 1px;margin: -1px;overflow: hidden;padding: 0;position: absolute;width: 1px;}#sk-container-id-5 div.sk-estimator {font-family: monospace;background-color: #f0f8ff;border: 1px dotted black;border-radius: 0.25em;box-sizing: border-box;margin-bottom: 0.5em;}#sk-container-id-5 div.sk-estimator:hover {background-color: #d4ebff;}#sk-container-id-5 div.sk-parallel-item::after {content: \"\";width: 100%;border-bottom: 1px solid gray;flex-grow: 1;}#sk-container-id-5 div.sk-label:hover label.sk-toggleable__label {background-color: #d4ebff;}#sk-container-id-5 div.sk-serial::before {content: \"\";position: absolute;border-left: 1px solid gray;box-sizing: border-box;top: 0;bottom: 0;left: 50%;z-index: 0;}#sk-container-id-5 div.sk-serial {display: flex;flex-direction: column;align-items: center;background-color: white;padding-right: 0.2em;padding-left: 0.2em;position: relative;}#sk-container-id-5 div.sk-item {position: relative;z-index: 1;}#sk-container-id-5 div.sk-parallel {display: flex;align-items: stretch;justify-content: center;background-color: white;position: relative;}#sk-container-id-5 div.sk-item::before, #sk-container-id-5 div.sk-parallel-item::before {content: \"\";position: absolute;border-left: 1px solid gray;box-sizing: border-box;top: 0;bottom: 0;left: 50%;z-index: -1;}#sk-container-id-5 div.sk-parallel-item {display: flex;flex-direction: column;z-index: 1;position: relative;background-color: white;}#sk-container-id-5 div.sk-parallel-item:first-child::after {align-self: flex-end;width: 50%;}#sk-container-id-5 div.sk-parallel-item:last-child::after {align-self: flex-start;width: 50%;}#sk-container-id-5 div.sk-parallel-item:only-child::after {width: 0;}#sk-container-id-5 div.sk-dashed-wrapped {border: 1px dashed gray;margin: 0 0.4em 0.5em 0.4em;box-sizing: border-box;padding-bottom: 0.4em;background-color: white;}#sk-container-id-5 div.sk-label label {font-family: monospace;font-weight: bold;display: inline-block;line-height: 1.2em;}#sk-container-id-5 div.sk-label-container {text-align: center;}#sk-container-id-5 div.sk-container {/* jupyter's `normalize.less` sets `[hidden] { display: none; }` but bootstrap.min.css set `[hidden] { display: none !important; }` so we also need the `!important` here to be able to override the default hidden behavior on the sphinx rendered scikit-learn.org. See: https://github.com/scikit-learn/scikit-learn/issues/21755 */display: inline-block !important;position: relative;}#sk-container-id-5 div.sk-text-repr-fallback {display: none;}</style><div id=\"sk-container-id-5\" class=\"sk-top-container\"><div class=\"sk-text-repr-fallback\"><pre>GridSearchCV(estimator=SVR(),\n",
       "             param_grid={&#x27;cache_size&#x27;: [100, 150, 200, 250, 300],\n",
       "                         &#x27;coef0&#x27;: [0.0, 0.1, 0.2, 0.3, 0.4, 0.5],\n",
       "                         &#x27;degree&#x27;: [1, 2, 3, 4, 5, 6],\n",
       "                         &#x27;gamma&#x27;: [&#x27;scale&#x27;, &#x27;auto&#x27;],\n",
       "                         &#x27;kernel&#x27;: [&#x27;linear&#x27;, &#x27;poly&#x27;, &#x27;rbf&#x27;, &#x27;sigmoid&#x27;],\n",
       "                         &#x27;shrinking&#x27;: [True, False]})</pre><b>In a Jupyter environment, please rerun this cell to show the HTML representation or trust the notebook. <br />On GitHub, the HTML representation is unable to render, please try loading this page with nbviewer.org.</b></div><div class=\"sk-container\" hidden><div class=\"sk-item sk-dashed-wrapped\"><div class=\"sk-label-container\"><div class=\"sk-label sk-toggleable\"><input class=\"sk-toggleable__control sk-hidden--visually\" id=\"sk-estimator-id-11\" type=\"checkbox\" ><label for=\"sk-estimator-id-11\" class=\"sk-toggleable__label sk-toggleable__label-arrow\">GridSearchCV</label><div class=\"sk-toggleable__content\"><pre>GridSearchCV(estimator=SVR(),\n",
       "             param_grid={&#x27;cache_size&#x27;: [100, 150, 200, 250, 300],\n",
       "                         &#x27;coef0&#x27;: [0.0, 0.1, 0.2, 0.3, 0.4, 0.5],\n",
       "                         &#x27;degree&#x27;: [1, 2, 3, 4, 5, 6],\n",
       "                         &#x27;gamma&#x27;: [&#x27;scale&#x27;, &#x27;auto&#x27;],\n",
       "                         &#x27;kernel&#x27;: [&#x27;linear&#x27;, &#x27;poly&#x27;, &#x27;rbf&#x27;, &#x27;sigmoid&#x27;],\n",
       "                         &#x27;shrinking&#x27;: [True, False]})</pre></div></div></div><div class=\"sk-parallel\"><div class=\"sk-parallel-item\"><div class=\"sk-item\"><div class=\"sk-label-container\"><div class=\"sk-label sk-toggleable\"><input class=\"sk-toggleable__control sk-hidden--visually\" id=\"sk-estimator-id-12\" type=\"checkbox\" ><label for=\"sk-estimator-id-12\" class=\"sk-toggleable__label sk-toggleable__label-arrow\">estimator: SVR</label><div class=\"sk-toggleable__content\"><pre>SVR()</pre></div></div></div><div class=\"sk-serial\"><div class=\"sk-item\"><div class=\"sk-estimator sk-toggleable\"><input class=\"sk-toggleable__control sk-hidden--visually\" id=\"sk-estimator-id-13\" type=\"checkbox\" ><label for=\"sk-estimator-id-13\" class=\"sk-toggleable__label sk-toggleable__label-arrow\">SVR</label><div class=\"sk-toggleable__content\"><pre>SVR()</pre></div></div></div></div></div></div></div></div></div></div>"
      ],
      "text/plain": [
       "GridSearchCV(estimator=SVR(),\n",
       "             param_grid={'cache_size': [100, 150, 200, 250, 300],\n",
       "                         'coef0': [0.0, 0.1, 0.2, 0.3, 0.4, 0.5],\n",
       "                         'degree': [1, 2, 3, 4, 5, 6],\n",
       "                         'gamma': ['scale', 'auto'],\n",
       "                         'kernel': ['linear', 'poly', 'rbf', 'sigmoid'],\n",
       "                         'shrinking': [True, False]})"
      ]
     },
     "execution_count": 106,
     "metadata": {},
     "output_type": "execute_result"
    }
   ],
   "source": [
    "svr_search.fit(x_train,y_train)"
   ]
  },
  {
   "cell_type": "code",
   "execution_count": 107,
   "id": "1c6a8ef2",
   "metadata": {},
   "outputs": [
    {
     "name": "stdout",
     "output_type": "stream",
     "text": [
      "0.983348193749172\n",
      "SVR(cache_size=100, coef0=0.5, kernel='poly', shrinking=False)\n",
      "{'cache_size': 100, 'coef0': 0.5, 'degree': 3, 'gamma': 'scale', 'kernel': 'poly', 'shrinking': False}\n"
     ]
    }
   ],
   "source": [
    "print(svr_search.best_score_)\n",
    "print(svr_search.best_estimator_)\n",
    "print(svr_search.best_params_)"
   ]
  },
  {
   "cell_type": "code",
   "execution_count": 108,
   "id": "93593af0",
   "metadata": {},
   "outputs": [
    {
     "name": "stdout",
     "output_type": "stream",
     "text": [
      "Training score of svr 0.9883385853046319\n",
      "Accuracy Score of svr 0.9917942510113548\n",
      "Mean Squared Error of svr 0.2003484197027236\n",
      "Mean Absolute Error of svr 0.3450958466211818\n",
      "Root Mean Squared Error of svr 0.44760297106109964\n",
      "\n",
      "\n"
     ]
    }
   ],
   "source": [
    "# using the best params\n",
    "svr = SVR(cache_size=100,coef0=0.5,degree=3,gamma='scale',kernel='poly',shrinking=False)\n",
    "svr.fit(x_train,y_train)\n",
    "pred_svr_test= svr.predict(x_test)\n",
    "pred_svr_train = svr.predict(x_train)\n",
    "print('Training score of svr',r2_score(pred_svr_train,y_train))\n",
    "print('Accuracy Score of svr',r2_score(pred_svr_test,y_test))\n",
    "print('Mean Squared Error of svr',mean_squared_error(pred_svr_test,y_test))\n",
    "print('Mean Absolute Error of svr',mean_absolute_error(pred_svr_test,y_test))\n",
    "print('Root Mean Squared Error of svr',np.sqrt(mean_squared_error(pred_svr_test,y_test)))\n",
    "print('\\n')\n",
    "\n",
    "# getting 99% accuracy from SVR"
   ]
  },
  {
   "cell_type": "markdown",
   "id": "fb64c61a",
   "metadata": {},
   "source": [
    "### SGDRegressor"
   ]
  },
  {
   "cell_type": "code",
   "execution_count": 109,
   "id": "73dd4c2f",
   "metadata": {},
   "outputs": [],
   "source": [
    "param_grid_sgd = {'penalty':['l2','l1','elasticnet'],\n",
    "                  'alpha':[.0001,.001,.01,.1,1,10],\n",
    "                  'l1_ratio':[0.5,0.10,0.15,0.20,0.25],\n",
    "                  'fit_intercept':[True,False],\n",
    "                  'max_iter':[200,400,600,800,1000,1200],\n",
    "                  'shuffle':[True,False]}"
   ]
  },
  {
   "cell_type": "code",
   "execution_count": 110,
   "id": "650ed345",
   "metadata": {},
   "outputs": [],
   "source": [
    "sgd_search = GridSearchCV(sgdr,param_grid=param_grid_sgd)"
   ]
  },
  {
   "cell_type": "code",
   "execution_count": 111,
   "id": "e5e6d72b",
   "metadata": {},
   "outputs": [
    {
     "data": {
      "text/html": [
       "<style>#sk-container-id-6 {color: black;background-color: white;}#sk-container-id-6 pre{padding: 0;}#sk-container-id-6 div.sk-toggleable {background-color: white;}#sk-container-id-6 label.sk-toggleable__label {cursor: pointer;display: block;width: 100%;margin-bottom: 0;padding: 0.3em;box-sizing: border-box;text-align: center;}#sk-container-id-6 label.sk-toggleable__label-arrow:before {content: \"▸\";float: left;margin-right: 0.25em;color: #696969;}#sk-container-id-6 label.sk-toggleable__label-arrow:hover:before {color: black;}#sk-container-id-6 div.sk-estimator:hover label.sk-toggleable__label-arrow:before {color: black;}#sk-container-id-6 div.sk-toggleable__content {max-height: 0;max-width: 0;overflow: hidden;text-align: left;background-color: #f0f8ff;}#sk-container-id-6 div.sk-toggleable__content pre {margin: 0.2em;color: black;border-radius: 0.25em;background-color: #f0f8ff;}#sk-container-id-6 input.sk-toggleable__control:checked~div.sk-toggleable__content {max-height: 200px;max-width: 100%;overflow: auto;}#sk-container-id-6 input.sk-toggleable__control:checked~label.sk-toggleable__label-arrow:before {content: \"▾\";}#sk-container-id-6 div.sk-estimator input.sk-toggleable__control:checked~label.sk-toggleable__label {background-color: #d4ebff;}#sk-container-id-6 div.sk-label input.sk-toggleable__control:checked~label.sk-toggleable__label {background-color: #d4ebff;}#sk-container-id-6 input.sk-hidden--visually {border: 0;clip: rect(1px 1px 1px 1px);clip: rect(1px, 1px, 1px, 1px);height: 1px;margin: -1px;overflow: hidden;padding: 0;position: absolute;width: 1px;}#sk-container-id-6 div.sk-estimator {font-family: monospace;background-color: #f0f8ff;border: 1px dotted black;border-radius: 0.25em;box-sizing: border-box;margin-bottom: 0.5em;}#sk-container-id-6 div.sk-estimator:hover {background-color: #d4ebff;}#sk-container-id-6 div.sk-parallel-item::after {content: \"\";width: 100%;border-bottom: 1px solid gray;flex-grow: 1;}#sk-container-id-6 div.sk-label:hover label.sk-toggleable__label {background-color: #d4ebff;}#sk-container-id-6 div.sk-serial::before {content: \"\";position: absolute;border-left: 1px solid gray;box-sizing: border-box;top: 0;bottom: 0;left: 50%;z-index: 0;}#sk-container-id-6 div.sk-serial {display: flex;flex-direction: column;align-items: center;background-color: white;padding-right: 0.2em;padding-left: 0.2em;position: relative;}#sk-container-id-6 div.sk-item {position: relative;z-index: 1;}#sk-container-id-6 div.sk-parallel {display: flex;align-items: stretch;justify-content: center;background-color: white;position: relative;}#sk-container-id-6 div.sk-item::before, #sk-container-id-6 div.sk-parallel-item::before {content: \"\";position: absolute;border-left: 1px solid gray;box-sizing: border-box;top: 0;bottom: 0;left: 50%;z-index: -1;}#sk-container-id-6 div.sk-parallel-item {display: flex;flex-direction: column;z-index: 1;position: relative;background-color: white;}#sk-container-id-6 div.sk-parallel-item:first-child::after {align-self: flex-end;width: 50%;}#sk-container-id-6 div.sk-parallel-item:last-child::after {align-self: flex-start;width: 50%;}#sk-container-id-6 div.sk-parallel-item:only-child::after {width: 0;}#sk-container-id-6 div.sk-dashed-wrapped {border: 1px dashed gray;margin: 0 0.4em 0.5em 0.4em;box-sizing: border-box;padding-bottom: 0.4em;background-color: white;}#sk-container-id-6 div.sk-label label {font-family: monospace;font-weight: bold;display: inline-block;line-height: 1.2em;}#sk-container-id-6 div.sk-label-container {text-align: center;}#sk-container-id-6 div.sk-container {/* jupyter's `normalize.less` sets `[hidden] { display: none; }` but bootstrap.min.css set `[hidden] { display: none !important; }` so we also need the `!important` here to be able to override the default hidden behavior on the sphinx rendered scikit-learn.org. See: https://github.com/scikit-learn/scikit-learn/issues/21755 */display: inline-block !important;position: relative;}#sk-container-id-6 div.sk-text-repr-fallback {display: none;}</style><div id=\"sk-container-id-6\" class=\"sk-top-container\"><div class=\"sk-text-repr-fallback\"><pre>GridSearchCV(estimator=SGDRegressor(),\n",
       "             param_grid={&#x27;alpha&#x27;: [0.0001, 0.001, 0.01, 0.1, 1, 10],\n",
       "                         &#x27;fit_intercept&#x27;: [True, False],\n",
       "                         &#x27;l1_ratio&#x27;: [0.5, 0.1, 0.15, 0.2, 0.25],\n",
       "                         &#x27;max_iter&#x27;: [200, 400, 600, 800, 1000, 1200],\n",
       "                         &#x27;penalty&#x27;: [&#x27;l2&#x27;, &#x27;l1&#x27;, &#x27;elasticnet&#x27;],\n",
       "                         &#x27;shuffle&#x27;: [True, False]})</pre><b>In a Jupyter environment, please rerun this cell to show the HTML representation or trust the notebook. <br />On GitHub, the HTML representation is unable to render, please try loading this page with nbviewer.org.</b></div><div class=\"sk-container\" hidden><div class=\"sk-item sk-dashed-wrapped\"><div class=\"sk-label-container\"><div class=\"sk-label sk-toggleable\"><input class=\"sk-toggleable__control sk-hidden--visually\" id=\"sk-estimator-id-14\" type=\"checkbox\" ><label for=\"sk-estimator-id-14\" class=\"sk-toggleable__label sk-toggleable__label-arrow\">GridSearchCV</label><div class=\"sk-toggleable__content\"><pre>GridSearchCV(estimator=SGDRegressor(),\n",
       "             param_grid={&#x27;alpha&#x27;: [0.0001, 0.001, 0.01, 0.1, 1, 10],\n",
       "                         &#x27;fit_intercept&#x27;: [True, False],\n",
       "                         &#x27;l1_ratio&#x27;: [0.5, 0.1, 0.15, 0.2, 0.25],\n",
       "                         &#x27;max_iter&#x27;: [200, 400, 600, 800, 1000, 1200],\n",
       "                         &#x27;penalty&#x27;: [&#x27;l2&#x27;, &#x27;l1&#x27;, &#x27;elasticnet&#x27;],\n",
       "                         &#x27;shuffle&#x27;: [True, False]})</pre></div></div></div><div class=\"sk-parallel\"><div class=\"sk-parallel-item\"><div class=\"sk-item\"><div class=\"sk-label-container\"><div class=\"sk-label sk-toggleable\"><input class=\"sk-toggleable__control sk-hidden--visually\" id=\"sk-estimator-id-15\" type=\"checkbox\" ><label for=\"sk-estimator-id-15\" class=\"sk-toggleable__label sk-toggleable__label-arrow\">estimator: SGDRegressor</label><div class=\"sk-toggleable__content\"><pre>SGDRegressor()</pre></div></div></div><div class=\"sk-serial\"><div class=\"sk-item\"><div class=\"sk-estimator sk-toggleable\"><input class=\"sk-toggleable__control sk-hidden--visually\" id=\"sk-estimator-id-16\" type=\"checkbox\" ><label for=\"sk-estimator-id-16\" class=\"sk-toggleable__label sk-toggleable__label-arrow\">SGDRegressor</label><div class=\"sk-toggleable__content\"><pre>SGDRegressor()</pre></div></div></div></div></div></div></div></div></div></div>"
      ],
      "text/plain": [
       "GridSearchCV(estimator=SGDRegressor(),\n",
       "             param_grid={'alpha': [0.0001, 0.001, 0.01, 0.1, 1, 10],\n",
       "                         'fit_intercept': [True, False],\n",
       "                         'l1_ratio': [0.5, 0.1, 0.15, 0.2, 0.25],\n",
       "                         'max_iter': [200, 400, 600, 800, 1000, 1200],\n",
       "                         'penalty': ['l2', 'l1', 'elasticnet'],\n",
       "                         'shuffle': [True, False]})"
      ]
     },
     "execution_count": 111,
     "metadata": {},
     "output_type": "execute_result"
    }
   ],
   "source": [
    "sgd_search.fit(x_train,y_train)"
   ]
  },
  {
   "cell_type": "code",
   "execution_count": 112,
   "id": "4778e3bd",
   "metadata": {},
   "outputs": [
    {
     "name": "stdout",
     "output_type": "stream",
     "text": [
      "0.881069223850331\n",
      "SGDRegressor(max_iter=600, penalty='l1')\n",
      "{'alpha': 0.0001, 'fit_intercept': True, 'l1_ratio': 0.15, 'max_iter': 600, 'penalty': 'l1', 'shuffle': True}\n"
     ]
    }
   ],
   "source": [
    "print(sgd_search.best_score_)\n",
    "print(sgd_search.best_estimator_)\n",
    "print(sgd_search.best_params_)"
   ]
  },
  {
   "cell_type": "code",
   "execution_count": 113,
   "id": "823dff8a",
   "metadata": {},
   "outputs": [
    {
     "name": "stdout",
     "output_type": "stream",
     "text": [
      "Training score of sgdr 0.8801638513635055\n",
      "Accuracy Score of sgdr 0.8902593880975375\n",
      "Mean Squared Error of sgdr 2.6417945472962128\n",
      "Mean Absolute Error of sgdr 1.3361992291444031\n",
      "Root Mean Squared Error of sgdr 1.6253598208692783\n",
      "\n",
      "\n"
     ]
    }
   ],
   "source": [
    "# using the best params\n",
    "sgdr = SGDRegressor(alpha=0.0001,fit_intercept=True,l1_ratio=0.15,max_iter=600,penalty='l1',shuffle=True)\n",
    "sgdr.fit(x_train,y_train)\n",
    "pred_sgdr_test= sgdr.predict(x_test)\n",
    "pred_sgdr_train = sgdr.predict(x_train)\n",
    "print('Training score of sgdr',r2_score(pred_sgdr_train,y_train))\n",
    "print('Accuracy Score of sgdr',r2_score(pred_sgdr_test,y_test))\n",
    "print('Mean Squared Error of sgdr',mean_squared_error(pred_sgdr_test,y_test))\n",
    "print('Mean Absolute Error of sgdr',mean_absolute_error(pred_sgdr_test,y_test))\n",
    "print('Root Mean Squared Error of sgdr',np.sqrt(mean_squared_error(pred_sgdr_test,y_test)))\n",
    "print('\\n')\n",
    "\n",
    "# SGDR 89% accuracy"
   ]
  },
  {
   "cell_type": "markdown",
   "id": "a257504d",
   "metadata": {},
   "source": [
    "## USING ENSEMBLE METHODS"
   ]
  },
  {
   "cell_type": "markdown",
   "id": "30a28303",
   "metadata": {},
   "source": [
    "### RandomForestRegressor"
   ]
  },
  {
   "cell_type": "code",
   "execution_count": 126,
   "id": "5650dba1",
   "metadata": {},
   "outputs": [],
   "source": [
    "param_grid_rfr = {'n_estimators':[20,40,60,80,100,110,120],\n",
    "                  'criterion':[\"squared_error\", \"absolute_error\", \"poisson\"],'max_depth':[2,4,None],'min_samples_split':[2,4,6],'min_samples_leaf':[2,4,6],'bootstrap':[True,False]}"
   ]
  },
  {
   "cell_type": "code",
   "execution_count": 127,
   "id": "dddcc6b4",
   "metadata": {},
   "outputs": [],
   "source": [
    "rfr_search = GridSearchCV(rfr,param_grid=param_grid_rfr)"
   ]
  },
  {
   "cell_type": "code",
   "execution_count": 128,
   "id": "2c35e5af",
   "metadata": {},
   "outputs": [
    {
     "data": {
      "text/html": [
       "<style>#sk-container-id-7 {color: black;background-color: white;}#sk-container-id-7 pre{padding: 0;}#sk-container-id-7 div.sk-toggleable {background-color: white;}#sk-container-id-7 label.sk-toggleable__label {cursor: pointer;display: block;width: 100%;margin-bottom: 0;padding: 0.3em;box-sizing: border-box;text-align: center;}#sk-container-id-7 label.sk-toggleable__label-arrow:before {content: \"▸\";float: left;margin-right: 0.25em;color: #696969;}#sk-container-id-7 label.sk-toggleable__label-arrow:hover:before {color: black;}#sk-container-id-7 div.sk-estimator:hover label.sk-toggleable__label-arrow:before {color: black;}#sk-container-id-7 div.sk-toggleable__content {max-height: 0;max-width: 0;overflow: hidden;text-align: left;background-color: #f0f8ff;}#sk-container-id-7 div.sk-toggleable__content pre {margin: 0.2em;color: black;border-radius: 0.25em;background-color: #f0f8ff;}#sk-container-id-7 input.sk-toggleable__control:checked~div.sk-toggleable__content {max-height: 200px;max-width: 100%;overflow: auto;}#sk-container-id-7 input.sk-toggleable__control:checked~label.sk-toggleable__label-arrow:before {content: \"▾\";}#sk-container-id-7 div.sk-estimator input.sk-toggleable__control:checked~label.sk-toggleable__label {background-color: #d4ebff;}#sk-container-id-7 div.sk-label input.sk-toggleable__control:checked~label.sk-toggleable__label {background-color: #d4ebff;}#sk-container-id-7 input.sk-hidden--visually {border: 0;clip: rect(1px 1px 1px 1px);clip: rect(1px, 1px, 1px, 1px);height: 1px;margin: -1px;overflow: hidden;padding: 0;position: absolute;width: 1px;}#sk-container-id-7 div.sk-estimator {font-family: monospace;background-color: #f0f8ff;border: 1px dotted black;border-radius: 0.25em;box-sizing: border-box;margin-bottom: 0.5em;}#sk-container-id-7 div.sk-estimator:hover {background-color: #d4ebff;}#sk-container-id-7 div.sk-parallel-item::after {content: \"\";width: 100%;border-bottom: 1px solid gray;flex-grow: 1;}#sk-container-id-7 div.sk-label:hover label.sk-toggleable__label {background-color: #d4ebff;}#sk-container-id-7 div.sk-serial::before {content: \"\";position: absolute;border-left: 1px solid gray;box-sizing: border-box;top: 0;bottom: 0;left: 50%;z-index: 0;}#sk-container-id-7 div.sk-serial {display: flex;flex-direction: column;align-items: center;background-color: white;padding-right: 0.2em;padding-left: 0.2em;position: relative;}#sk-container-id-7 div.sk-item {position: relative;z-index: 1;}#sk-container-id-7 div.sk-parallel {display: flex;align-items: stretch;justify-content: center;background-color: white;position: relative;}#sk-container-id-7 div.sk-item::before, #sk-container-id-7 div.sk-parallel-item::before {content: \"\";position: absolute;border-left: 1px solid gray;box-sizing: border-box;top: 0;bottom: 0;left: 50%;z-index: -1;}#sk-container-id-7 div.sk-parallel-item {display: flex;flex-direction: column;z-index: 1;position: relative;background-color: white;}#sk-container-id-7 div.sk-parallel-item:first-child::after {align-self: flex-end;width: 50%;}#sk-container-id-7 div.sk-parallel-item:last-child::after {align-self: flex-start;width: 50%;}#sk-container-id-7 div.sk-parallel-item:only-child::after {width: 0;}#sk-container-id-7 div.sk-dashed-wrapped {border: 1px dashed gray;margin: 0 0.4em 0.5em 0.4em;box-sizing: border-box;padding-bottom: 0.4em;background-color: white;}#sk-container-id-7 div.sk-label label {font-family: monospace;font-weight: bold;display: inline-block;line-height: 1.2em;}#sk-container-id-7 div.sk-label-container {text-align: center;}#sk-container-id-7 div.sk-container {/* jupyter's `normalize.less` sets `[hidden] { display: none; }` but bootstrap.min.css set `[hidden] { display: none !important; }` so we also need the `!important` here to be able to override the default hidden behavior on the sphinx rendered scikit-learn.org. See: https://github.com/scikit-learn/scikit-learn/issues/21755 */display: inline-block !important;position: relative;}#sk-container-id-7 div.sk-text-repr-fallback {display: none;}</style><div id=\"sk-container-id-7\" class=\"sk-top-container\"><div class=\"sk-text-repr-fallback\"><pre>GridSearchCV(estimator=RandomForestRegressor(),\n",
       "             param_grid={&#x27;bootstrap&#x27;: [True, False],\n",
       "                         &#x27;criterion&#x27;: [&#x27;squared_error&#x27;, &#x27;absolute_error&#x27;,\n",
       "                                       &#x27;poisson&#x27;],\n",
       "                         &#x27;max_depth&#x27;: [2, 4, None],\n",
       "                         &#x27;min_samples_leaf&#x27;: [2, 4, 6],\n",
       "                         &#x27;min_samples_split&#x27;: [2, 4, 6],\n",
       "                         &#x27;n_estimators&#x27;: [20, 40, 60, 80, 100, 110, 120]})</pre><b>In a Jupyter environment, please rerun this cell to show the HTML representation or trust the notebook. <br />On GitHub, the HTML representation is unable to render, please try loading this page with nbviewer.org.</b></div><div class=\"sk-container\" hidden><div class=\"sk-item sk-dashed-wrapped\"><div class=\"sk-label-container\"><div class=\"sk-label sk-toggleable\"><input class=\"sk-toggleable__control sk-hidden--visually\" id=\"sk-estimator-id-17\" type=\"checkbox\" ><label for=\"sk-estimator-id-17\" class=\"sk-toggleable__label sk-toggleable__label-arrow\">GridSearchCV</label><div class=\"sk-toggleable__content\"><pre>GridSearchCV(estimator=RandomForestRegressor(),\n",
       "             param_grid={&#x27;bootstrap&#x27;: [True, False],\n",
       "                         &#x27;criterion&#x27;: [&#x27;squared_error&#x27;, &#x27;absolute_error&#x27;,\n",
       "                                       &#x27;poisson&#x27;],\n",
       "                         &#x27;max_depth&#x27;: [2, 4, None],\n",
       "                         &#x27;min_samples_leaf&#x27;: [2, 4, 6],\n",
       "                         &#x27;min_samples_split&#x27;: [2, 4, 6],\n",
       "                         &#x27;n_estimators&#x27;: [20, 40, 60, 80, 100, 110, 120]})</pre></div></div></div><div class=\"sk-parallel\"><div class=\"sk-parallel-item\"><div class=\"sk-item\"><div class=\"sk-label-container\"><div class=\"sk-label sk-toggleable\"><input class=\"sk-toggleable__control sk-hidden--visually\" id=\"sk-estimator-id-18\" type=\"checkbox\" ><label for=\"sk-estimator-id-18\" class=\"sk-toggleable__label sk-toggleable__label-arrow\">estimator: RandomForestRegressor</label><div class=\"sk-toggleable__content\"><pre>RandomForestRegressor()</pre></div></div></div><div class=\"sk-serial\"><div class=\"sk-item\"><div class=\"sk-estimator sk-toggleable\"><input class=\"sk-toggleable__control sk-hidden--visually\" id=\"sk-estimator-id-19\" type=\"checkbox\" ><label for=\"sk-estimator-id-19\" class=\"sk-toggleable__label sk-toggleable__label-arrow\">RandomForestRegressor</label><div class=\"sk-toggleable__content\"><pre>RandomForestRegressor()</pre></div></div></div></div></div></div></div></div></div></div>"
      ],
      "text/plain": [
       "GridSearchCV(estimator=RandomForestRegressor(),\n",
       "             param_grid={'bootstrap': [True, False],\n",
       "                         'criterion': ['squared_error', 'absolute_error',\n",
       "                                       'poisson'],\n",
       "                         'max_depth': [2, 4, None],\n",
       "                         'min_samples_leaf': [2, 4, 6],\n",
       "                         'min_samples_split': [2, 4, 6],\n",
       "                         'n_estimators': [20, 40, 60, 80, 100, 110, 120]})"
      ]
     },
     "execution_count": 128,
     "metadata": {},
     "output_type": "execute_result"
    }
   ],
   "source": [
    "rfr_search.fit(x_train,y_train)"
   ]
  },
  {
   "cell_type": "code",
   "execution_count": 129,
   "id": "b4960ef5",
   "metadata": {},
   "outputs": [
    {
     "name": "stdout",
     "output_type": "stream",
     "text": [
      "0.9691855462438441\n",
      "RandomForestRegressor(criterion='poisson', min_samples_leaf=2,\n",
      "                      min_samples_split=4)\n",
      "{'bootstrap': True, 'criterion': 'poisson', 'max_depth': None, 'min_samples_leaf': 2, 'min_samples_split': 4, 'n_estimators': 100}\n"
     ]
    }
   ],
   "source": [
    "print(rfr_search.best_score_)\n",
    "print(rfr_search.best_estimator_)\n",
    "print(rfr_search.best_params_)"
   ]
  },
  {
   "cell_type": "code",
   "execution_count": 131,
   "id": "9feb4ba2",
   "metadata": {},
   "outputs": [
    {
     "name": "stdout",
     "output_type": "stream",
     "text": [
      "Training score of rfr 0.993521223939608\n",
      "Accuracy Score of rfr 0.960585084410625\n",
      "Mean Squared Error of rfr 0.8524378249127766\n",
      "Mean Absolute Error of rfr 0.6598236159211164\n",
      "Root Mean Squared Error of rfr 0.923275595319608\n",
      "\n",
      "\n"
     ]
    }
   ],
   "source": [
    "# using the best params\n",
    "rfr = RandomForestRegressor(bootstrap=True,criterion='poisson',max_depth=None,min_samples_leaf=2,min_samples_split=4,n_estimators=100)\n",
    "rfr.fit(x_train,y_train)\n",
    "pred_rfr_test= rfr.predict(x_test)\n",
    "pred_rfr_train = rfr.predict(x_train)\n",
    "print('Training score of rfr',r2_score(pred_rfr_train,y_train))\n",
    "print('Accuracy Score of rfr',r2_score(pred_rfr_test,y_test))\n",
    "print('Mean Squared Error of rfr',mean_squared_error(pred_rfr_test,y_test))\n",
    "print('Mean Absolute Error of rfr',mean_absolute_error(pred_rfr_test,y_test))\n",
    "print('Root Mean Squared Error of rfr',np.sqrt(mean_squared_error(pred_rfr_test,y_test)))\n",
    "print('\\n')\n",
    "\n",
    "# 96% accuracy - randomforestreg"
   ]
  },
  {
   "cell_type": "markdown",
   "id": "3402844a",
   "metadata": {},
   "source": [
    "### AdaBoostRegressor"
   ]
  },
  {
   "cell_type": "code",
   "execution_count": 150,
   "id": "413f4429",
   "metadata": {},
   "outputs": [],
   "source": [
    "AdaBoostRegressor()\n",
    "param_grid_abr = {'loss':['linear', 'square', 'exponential'],'n_estimators':[30,40,50,60,70,80],'learning_rate':[0.5,1.0,1.5,2.0],'random_state':[30,40,46,52,67]}"
   ]
  },
  {
   "cell_type": "code",
   "execution_count": 151,
   "id": "5e39d03b",
   "metadata": {},
   "outputs": [],
   "source": [
    "abr_search = GridSearchCV(abr,param_grid=param_grid_abr)"
   ]
  },
  {
   "cell_type": "code",
   "execution_count": 152,
   "id": "000040b5",
   "metadata": {},
   "outputs": [
    {
     "data": {
      "text/html": [
       "<style>#sk-container-id-8 {color: black;background-color: white;}#sk-container-id-8 pre{padding: 0;}#sk-container-id-8 div.sk-toggleable {background-color: white;}#sk-container-id-8 label.sk-toggleable__label {cursor: pointer;display: block;width: 100%;margin-bottom: 0;padding: 0.3em;box-sizing: border-box;text-align: center;}#sk-container-id-8 label.sk-toggleable__label-arrow:before {content: \"▸\";float: left;margin-right: 0.25em;color: #696969;}#sk-container-id-8 label.sk-toggleable__label-arrow:hover:before {color: black;}#sk-container-id-8 div.sk-estimator:hover label.sk-toggleable__label-arrow:before {color: black;}#sk-container-id-8 div.sk-toggleable__content {max-height: 0;max-width: 0;overflow: hidden;text-align: left;background-color: #f0f8ff;}#sk-container-id-8 div.sk-toggleable__content pre {margin: 0.2em;color: black;border-radius: 0.25em;background-color: #f0f8ff;}#sk-container-id-8 input.sk-toggleable__control:checked~div.sk-toggleable__content {max-height: 200px;max-width: 100%;overflow: auto;}#sk-container-id-8 input.sk-toggleable__control:checked~label.sk-toggleable__label-arrow:before {content: \"▾\";}#sk-container-id-8 div.sk-estimator input.sk-toggleable__control:checked~label.sk-toggleable__label {background-color: #d4ebff;}#sk-container-id-8 div.sk-label input.sk-toggleable__control:checked~label.sk-toggleable__label {background-color: #d4ebff;}#sk-container-id-8 input.sk-hidden--visually {border: 0;clip: rect(1px 1px 1px 1px);clip: rect(1px, 1px, 1px, 1px);height: 1px;margin: -1px;overflow: hidden;padding: 0;position: absolute;width: 1px;}#sk-container-id-8 div.sk-estimator {font-family: monospace;background-color: #f0f8ff;border: 1px dotted black;border-radius: 0.25em;box-sizing: border-box;margin-bottom: 0.5em;}#sk-container-id-8 div.sk-estimator:hover {background-color: #d4ebff;}#sk-container-id-8 div.sk-parallel-item::after {content: \"\";width: 100%;border-bottom: 1px solid gray;flex-grow: 1;}#sk-container-id-8 div.sk-label:hover label.sk-toggleable__label {background-color: #d4ebff;}#sk-container-id-8 div.sk-serial::before {content: \"\";position: absolute;border-left: 1px solid gray;box-sizing: border-box;top: 0;bottom: 0;left: 50%;z-index: 0;}#sk-container-id-8 div.sk-serial {display: flex;flex-direction: column;align-items: center;background-color: white;padding-right: 0.2em;padding-left: 0.2em;position: relative;}#sk-container-id-8 div.sk-item {position: relative;z-index: 1;}#sk-container-id-8 div.sk-parallel {display: flex;align-items: stretch;justify-content: center;background-color: white;position: relative;}#sk-container-id-8 div.sk-item::before, #sk-container-id-8 div.sk-parallel-item::before {content: \"\";position: absolute;border-left: 1px solid gray;box-sizing: border-box;top: 0;bottom: 0;left: 50%;z-index: -1;}#sk-container-id-8 div.sk-parallel-item {display: flex;flex-direction: column;z-index: 1;position: relative;background-color: white;}#sk-container-id-8 div.sk-parallel-item:first-child::after {align-self: flex-end;width: 50%;}#sk-container-id-8 div.sk-parallel-item:last-child::after {align-self: flex-start;width: 50%;}#sk-container-id-8 div.sk-parallel-item:only-child::after {width: 0;}#sk-container-id-8 div.sk-dashed-wrapped {border: 1px dashed gray;margin: 0 0.4em 0.5em 0.4em;box-sizing: border-box;padding-bottom: 0.4em;background-color: white;}#sk-container-id-8 div.sk-label label {font-family: monospace;font-weight: bold;display: inline-block;line-height: 1.2em;}#sk-container-id-8 div.sk-label-container {text-align: center;}#sk-container-id-8 div.sk-container {/* jupyter's `normalize.less` sets `[hidden] { display: none; }` but bootstrap.min.css set `[hidden] { display: none !important; }` so we also need the `!important` here to be able to override the default hidden behavior on the sphinx rendered scikit-learn.org. See: https://github.com/scikit-learn/scikit-learn/issues/21755 */display: inline-block !important;position: relative;}#sk-container-id-8 div.sk-text-repr-fallback {display: none;}</style><div id=\"sk-container-id-8\" class=\"sk-top-container\"><div class=\"sk-text-repr-fallback\"><pre>GridSearchCV(estimator=AdaBoostRegressor(),\n",
       "             param_grid={&#x27;learning_rate&#x27;: [0.5, 1.0, 1.5, 2.0],\n",
       "                         &#x27;loss&#x27;: [&#x27;linear&#x27;, &#x27;square&#x27;, &#x27;exponential&#x27;],\n",
       "                         &#x27;n_estimators&#x27;: [30, 40, 50, 60, 70, 80],\n",
       "                         &#x27;random_state&#x27;: [30, 40, 46, 52, 67]})</pre><b>In a Jupyter environment, please rerun this cell to show the HTML representation or trust the notebook. <br />On GitHub, the HTML representation is unable to render, please try loading this page with nbviewer.org.</b></div><div class=\"sk-container\" hidden><div class=\"sk-item sk-dashed-wrapped\"><div class=\"sk-label-container\"><div class=\"sk-label sk-toggleable\"><input class=\"sk-toggleable__control sk-hidden--visually\" id=\"sk-estimator-id-20\" type=\"checkbox\" ><label for=\"sk-estimator-id-20\" class=\"sk-toggleable__label sk-toggleable__label-arrow\">GridSearchCV</label><div class=\"sk-toggleable__content\"><pre>GridSearchCV(estimator=AdaBoostRegressor(),\n",
       "             param_grid={&#x27;learning_rate&#x27;: [0.5, 1.0, 1.5, 2.0],\n",
       "                         &#x27;loss&#x27;: [&#x27;linear&#x27;, &#x27;square&#x27;, &#x27;exponential&#x27;],\n",
       "                         &#x27;n_estimators&#x27;: [30, 40, 50, 60, 70, 80],\n",
       "                         &#x27;random_state&#x27;: [30, 40, 46, 52, 67]})</pre></div></div></div><div class=\"sk-parallel\"><div class=\"sk-parallel-item\"><div class=\"sk-item\"><div class=\"sk-label-container\"><div class=\"sk-label sk-toggleable\"><input class=\"sk-toggleable__control sk-hidden--visually\" id=\"sk-estimator-id-21\" type=\"checkbox\" ><label for=\"sk-estimator-id-21\" class=\"sk-toggleable__label sk-toggleable__label-arrow\">estimator: AdaBoostRegressor</label><div class=\"sk-toggleable__content\"><pre>AdaBoostRegressor()</pre></div></div></div><div class=\"sk-serial\"><div class=\"sk-item\"><div class=\"sk-estimator sk-toggleable\"><input class=\"sk-toggleable__control sk-hidden--visually\" id=\"sk-estimator-id-22\" type=\"checkbox\" ><label for=\"sk-estimator-id-22\" class=\"sk-toggleable__label sk-toggleable__label-arrow\">AdaBoostRegressor</label><div class=\"sk-toggleable__content\"><pre>AdaBoostRegressor()</pre></div></div></div></div></div></div></div></div></div></div>"
      ],
      "text/plain": [
       "GridSearchCV(estimator=AdaBoostRegressor(),\n",
       "             param_grid={'learning_rate': [0.5, 1.0, 1.5, 2.0],\n",
       "                         'loss': ['linear', 'square', 'exponential'],\n",
       "                         'n_estimators': [30, 40, 50, 60, 70, 80],\n",
       "                         'random_state': [30, 40, 46, 52, 67]})"
      ]
     },
     "execution_count": 152,
     "metadata": {},
     "output_type": "execute_result"
    }
   ],
   "source": [
    "abr_search.fit(x_train,y_train)"
   ]
  },
  {
   "cell_type": "code",
   "execution_count": 153,
   "id": "99d7b2fc",
   "metadata": {},
   "outputs": [
    {
     "name": "stdout",
     "output_type": "stream",
     "text": [
      "0.9490658350641935\n",
      "AdaBoostRegressor(loss='square', n_estimators=70, random_state=30)\n",
      "{'learning_rate': 1.0, 'loss': 'square', 'n_estimators': 70, 'random_state': 30}\n"
     ]
    }
   ],
   "source": [
    "print(abr_search.best_score_)\n",
    "print(abr_search.best_estimator_)\n",
    "print(abr_search.best_params_)"
   ]
  },
  {
   "cell_type": "code",
   "execution_count": 154,
   "id": "ded70cab",
   "metadata": {},
   "outputs": [
    {
     "name": "stdout",
     "output_type": "stream",
     "text": [
      "Training score of abr 0.9738990398861136\n",
      "Accuracy Score of abr 0.9304804295883375\n",
      "Mean Squared Error of abr 1.3462029157699282\n",
      "Mean Absolute Error of abr 0.9600585613891736\n",
      "Root Mean Squared Error of abr 1.1602598483830802\n",
      "\n",
      "\n"
     ]
    }
   ],
   "source": [
    "# using the best params\n",
    "abr = AdaBoostRegressor()\n",
    "abr.fit(x_train,y_train)\n",
    "pred_abr_test= abr.predict(x_test)\n",
    "pred_abr_train = abr.predict(x_train)\n",
    "print('Training score of abr',r2_score(pred_abr_train,y_train))\n",
    "print('Accuracy Score of abr',r2_score(pred_abr_test,y_test))\n",
    "print('Mean Squared Error of abr',mean_squared_error(pred_abr_test,y_test))\n",
    "print('Mean Absolute Error of abr',mean_absolute_error(pred_abr_test,y_test))\n",
    "print('Root Mean Squared Error of abr',np.sqrt(mean_squared_error(pred_abr_test,y_test)))\n",
    "print('\\n')\n",
    "\n",
    "#   93%  accuracy - Adaboostregressor"
   ]
  },
  {
   "cell_type": "markdown",
   "id": "ff969e01",
   "metadata": {},
   "source": [
    "### GradientBoostingRegressor"
   ]
  },
  {
   "cell_type": "code",
   "execution_count": 161,
   "id": "37b7ca4c",
   "metadata": {},
   "outputs": [],
   "source": [
    "GradientBoostingRegressor()\n",
    "param_grid_gbr = {'loss':['squared_error','absolute_error','huber','quantile'],'n_estimators':[30,40,50,60,70,80],\n",
    "                  'criterion':['friedman_mse','squared_error','mse'],'subsample':[0.5,1.0,1.5,2.0],'min_samples_split':[2,4,6]}"
   ]
  },
  {
   "cell_type": "code",
   "execution_count": 162,
   "id": "e05802f7",
   "metadata": {},
   "outputs": [],
   "source": [
    "gbr_search = GridSearchCV(gbr,param_grid=param_grid_gbr)"
   ]
  },
  {
   "cell_type": "code",
   "execution_count": 163,
   "id": "65ee3425",
   "metadata": {},
   "outputs": [
    {
     "data": {
      "text/html": [
       "<style>#sk-container-id-9 {color: black;background-color: white;}#sk-container-id-9 pre{padding: 0;}#sk-container-id-9 div.sk-toggleable {background-color: white;}#sk-container-id-9 label.sk-toggleable__label {cursor: pointer;display: block;width: 100%;margin-bottom: 0;padding: 0.3em;box-sizing: border-box;text-align: center;}#sk-container-id-9 label.sk-toggleable__label-arrow:before {content: \"▸\";float: left;margin-right: 0.25em;color: #696969;}#sk-container-id-9 label.sk-toggleable__label-arrow:hover:before {color: black;}#sk-container-id-9 div.sk-estimator:hover label.sk-toggleable__label-arrow:before {color: black;}#sk-container-id-9 div.sk-toggleable__content {max-height: 0;max-width: 0;overflow: hidden;text-align: left;background-color: #f0f8ff;}#sk-container-id-9 div.sk-toggleable__content pre {margin: 0.2em;color: black;border-radius: 0.25em;background-color: #f0f8ff;}#sk-container-id-9 input.sk-toggleable__control:checked~div.sk-toggleable__content {max-height: 200px;max-width: 100%;overflow: auto;}#sk-container-id-9 input.sk-toggleable__control:checked~label.sk-toggleable__label-arrow:before {content: \"▾\";}#sk-container-id-9 div.sk-estimator input.sk-toggleable__control:checked~label.sk-toggleable__label {background-color: #d4ebff;}#sk-container-id-9 div.sk-label input.sk-toggleable__control:checked~label.sk-toggleable__label {background-color: #d4ebff;}#sk-container-id-9 input.sk-hidden--visually {border: 0;clip: rect(1px 1px 1px 1px);clip: rect(1px, 1px, 1px, 1px);height: 1px;margin: -1px;overflow: hidden;padding: 0;position: absolute;width: 1px;}#sk-container-id-9 div.sk-estimator {font-family: monospace;background-color: #f0f8ff;border: 1px dotted black;border-radius: 0.25em;box-sizing: border-box;margin-bottom: 0.5em;}#sk-container-id-9 div.sk-estimator:hover {background-color: #d4ebff;}#sk-container-id-9 div.sk-parallel-item::after {content: \"\";width: 100%;border-bottom: 1px solid gray;flex-grow: 1;}#sk-container-id-9 div.sk-label:hover label.sk-toggleable__label {background-color: #d4ebff;}#sk-container-id-9 div.sk-serial::before {content: \"\";position: absolute;border-left: 1px solid gray;box-sizing: border-box;top: 0;bottom: 0;left: 50%;z-index: 0;}#sk-container-id-9 div.sk-serial {display: flex;flex-direction: column;align-items: center;background-color: white;padding-right: 0.2em;padding-left: 0.2em;position: relative;}#sk-container-id-9 div.sk-item {position: relative;z-index: 1;}#sk-container-id-9 div.sk-parallel {display: flex;align-items: stretch;justify-content: center;background-color: white;position: relative;}#sk-container-id-9 div.sk-item::before, #sk-container-id-9 div.sk-parallel-item::before {content: \"\";position: absolute;border-left: 1px solid gray;box-sizing: border-box;top: 0;bottom: 0;left: 50%;z-index: -1;}#sk-container-id-9 div.sk-parallel-item {display: flex;flex-direction: column;z-index: 1;position: relative;background-color: white;}#sk-container-id-9 div.sk-parallel-item:first-child::after {align-self: flex-end;width: 50%;}#sk-container-id-9 div.sk-parallel-item:last-child::after {align-self: flex-start;width: 50%;}#sk-container-id-9 div.sk-parallel-item:only-child::after {width: 0;}#sk-container-id-9 div.sk-dashed-wrapped {border: 1px dashed gray;margin: 0 0.4em 0.5em 0.4em;box-sizing: border-box;padding-bottom: 0.4em;background-color: white;}#sk-container-id-9 div.sk-label label {font-family: monospace;font-weight: bold;display: inline-block;line-height: 1.2em;}#sk-container-id-9 div.sk-label-container {text-align: center;}#sk-container-id-9 div.sk-container {/* jupyter's `normalize.less` sets `[hidden] { display: none; }` but bootstrap.min.css set `[hidden] { display: none !important; }` so we also need the `!important` here to be able to override the default hidden behavior on the sphinx rendered scikit-learn.org. See: https://github.com/scikit-learn/scikit-learn/issues/21755 */display: inline-block !important;position: relative;}#sk-container-id-9 div.sk-text-repr-fallback {display: none;}</style><div id=\"sk-container-id-9\" class=\"sk-top-container\"><div class=\"sk-text-repr-fallback\"><pre>GridSearchCV(estimator=GradientBoostingRegressor(),\n",
       "             param_grid={&#x27;criterion&#x27;: [&#x27;friedman_mse&#x27;, &#x27;squared_error&#x27;, &#x27;mse&#x27;],\n",
       "                         &#x27;loss&#x27;: [&#x27;squared_error&#x27;, &#x27;absolute_error&#x27;, &#x27;huber&#x27;,\n",
       "                                  &#x27;quantile&#x27;],\n",
       "                         &#x27;min_samples_split&#x27;: [2, 4, 6],\n",
       "                         &#x27;n_estimators&#x27;: [30, 40, 50, 60, 70, 80],\n",
       "                         &#x27;subsample&#x27;: [0.5, 1.0, 1.5, 2.0]})</pre><b>In a Jupyter environment, please rerun this cell to show the HTML representation or trust the notebook. <br />On GitHub, the HTML representation is unable to render, please try loading this page with nbviewer.org.</b></div><div class=\"sk-container\" hidden><div class=\"sk-item sk-dashed-wrapped\"><div class=\"sk-label-container\"><div class=\"sk-label sk-toggleable\"><input class=\"sk-toggleable__control sk-hidden--visually\" id=\"sk-estimator-id-23\" type=\"checkbox\" ><label for=\"sk-estimator-id-23\" class=\"sk-toggleable__label sk-toggleable__label-arrow\">GridSearchCV</label><div class=\"sk-toggleable__content\"><pre>GridSearchCV(estimator=GradientBoostingRegressor(),\n",
       "             param_grid={&#x27;criterion&#x27;: [&#x27;friedman_mse&#x27;, &#x27;squared_error&#x27;, &#x27;mse&#x27;],\n",
       "                         &#x27;loss&#x27;: [&#x27;squared_error&#x27;, &#x27;absolute_error&#x27;, &#x27;huber&#x27;,\n",
       "                                  &#x27;quantile&#x27;],\n",
       "                         &#x27;min_samples_split&#x27;: [2, 4, 6],\n",
       "                         &#x27;n_estimators&#x27;: [30, 40, 50, 60, 70, 80],\n",
       "                         &#x27;subsample&#x27;: [0.5, 1.0, 1.5, 2.0]})</pre></div></div></div><div class=\"sk-parallel\"><div class=\"sk-parallel-item\"><div class=\"sk-item\"><div class=\"sk-label-container\"><div class=\"sk-label sk-toggleable\"><input class=\"sk-toggleable__control sk-hidden--visually\" id=\"sk-estimator-id-24\" type=\"checkbox\" ><label for=\"sk-estimator-id-24\" class=\"sk-toggleable__label sk-toggleable__label-arrow\">estimator: GradientBoostingRegressor</label><div class=\"sk-toggleable__content\"><pre>GradientBoostingRegressor()</pre></div></div></div><div class=\"sk-serial\"><div class=\"sk-item\"><div class=\"sk-estimator sk-toggleable\"><input class=\"sk-toggleable__control sk-hidden--visually\" id=\"sk-estimator-id-25\" type=\"checkbox\" ><label for=\"sk-estimator-id-25\" class=\"sk-toggleable__label sk-toggleable__label-arrow\">GradientBoostingRegressor</label><div class=\"sk-toggleable__content\"><pre>GradientBoostingRegressor()</pre></div></div></div></div></div></div></div></div></div></div>"
      ],
      "text/plain": [
       "GridSearchCV(estimator=GradientBoostingRegressor(),\n",
       "             param_grid={'criterion': ['friedman_mse', 'squared_error', 'mse'],\n",
       "                         'loss': ['squared_error', 'absolute_error', 'huber',\n",
       "                                  'quantile'],\n",
       "                         'min_samples_split': [2, 4, 6],\n",
       "                         'n_estimators': [30, 40, 50, 60, 70, 80],\n",
       "                         'subsample': [0.5, 1.0, 1.5, 2.0]})"
      ]
     },
     "execution_count": 163,
     "metadata": {},
     "output_type": "execute_result"
    }
   ],
   "source": [
    "gbr_search.fit(x_train,y_train)"
   ]
  },
  {
   "cell_type": "code",
   "execution_count": 164,
   "id": "fb361194",
   "metadata": {},
   "outputs": [
    {
     "name": "stdout",
     "output_type": "stream",
     "text": [
      "0.9832549050189204\n",
      "GradientBoostingRegressor(criterion='squared_error', min_samples_split=4,\n",
      "                          n_estimators=70, subsample=0.5)\n",
      "{'criterion': 'squared_error', 'loss': 'squared_error', 'min_samples_split': 4, 'n_estimators': 70, 'subsample': 0.5}\n"
     ]
    }
   ],
   "source": [
    "print(gbr_search.best_score_)\n",
    "print(gbr_search.best_estimator_)\n",
    "print(gbr_search.best_params_)"
   ]
  },
  {
   "cell_type": "code",
   "execution_count": 165,
   "id": "b22466e1",
   "metadata": {},
   "outputs": [
    {
     "name": "stdout",
     "output_type": "stream",
     "text": [
      "Training score of gbr 0.9989585236227827\n",
      "Accuracy Score of gbr 0.9752219058956935\n",
      "Mean Squared Error of gbr 0.5611818099861547\n",
      "Mean Absolute Error of gbr 0.5731076822459568\n",
      "Root Mean Squared Error of gbr 0.7491206912014611\n",
      "\n",
      "\n"
     ]
    }
   ],
   "source": [
    "# using the best params\n",
    "gbr = GradientBoostingRegressor()\n",
    "gbr.fit(x_train,y_train)\n",
    "pred_gbr_test= gbr.predict(x_test)\n",
    "pred_gbr_train = gbr.predict(x_train)\n",
    "print('Training score of gbr',r2_score(pred_gbr_train,y_train))\n",
    "print('Accuracy Score of gbr',r2_score(pred_gbr_test,y_test))\n",
    "print('Mean Squared Error of gbr',mean_squared_error(pred_gbr_test,y_test))\n",
    "print('Mean Absolute Error of gbr',mean_absolute_error(pred_gbr_test,y_test))\n",
    "print('Root Mean Squared Error of gbr',np.sqrt(mean_squared_error(pred_gbr_test,y_test)))\n",
    "print('\\n')\n",
    "\n",
    "#  GradientBoostingClassifeir is giving 97% accuracy"
   ]
  },
  {
   "cell_type": "markdown",
   "id": "b2a3d779",
   "metadata": {},
   "source": [
    "### Saving the best Model"
   ]
  },
  {
   "cell_type": "code",
   "execution_count": 166,
   "id": "7f70816b",
   "metadata": {},
   "outputs": [],
   "source": [
    "# SupportVectorRegressor is giving 99% accuracy,it is the best model\n",
    "import pickle\n",
    "filename = 'advertising_salespred.pkl'\n",
    "pickle.dump(svr,open(filename, 'wb'))"
   ]
  },
  {
   "cell_type": "code",
   "execution_count": 167,
   "id": "7dd73ac2",
   "metadata": {},
   "outputs": [
    {
     "data": {
      "text/html": [
       "<div>\n",
       "<style scoped>\n",
       "    .dataframe tbody tr th:only-of-type {\n",
       "        vertical-align: middle;\n",
       "    }\n",
       "\n",
       "    .dataframe tbody tr th {\n",
       "        vertical-align: top;\n",
       "    }\n",
       "\n",
       "    .dataframe thead th {\n",
       "        text-align: right;\n",
       "    }\n",
       "</style>\n",
       "<table border=\"1\" class=\"dataframe\">\n",
       "  <thead>\n",
       "    <tr style=\"text-align: right;\">\n",
       "      <th></th>\n",
       "      <th>Original</th>\n",
       "      <th>Predicted</th>\n",
       "    </tr>\n",
       "  </thead>\n",
       "  <tbody>\n",
       "    <tr>\n",
       "      <th>0</th>\n",
       "      <td>25.4</td>\n",
       "      <td>25.446268</td>\n",
       "    </tr>\n",
       "    <tr>\n",
       "      <th>1</th>\n",
       "      <td>16.7</td>\n",
       "      <td>17.412092</td>\n",
       "    </tr>\n",
       "    <tr>\n",
       "      <th>2</th>\n",
       "      <td>7.3</td>\n",
       "      <td>7.428985</td>\n",
       "    </tr>\n",
       "    <tr>\n",
       "      <th>3</th>\n",
       "      <td>13.2</td>\n",
       "      <td>13.212983</td>\n",
       "    </tr>\n",
       "    <tr>\n",
       "      <th>4</th>\n",
       "      <td>11.8</td>\n",
       "      <td>12.090235</td>\n",
       "    </tr>\n",
       "    <tr>\n",
       "      <th>5</th>\n",
       "      <td>14.5</td>\n",
       "      <td>14.874209</td>\n",
       "    </tr>\n",
       "    <tr>\n",
       "      <th>6</th>\n",
       "      <td>12.9</td>\n",
       "      <td>12.997396</td>\n",
       "    </tr>\n",
       "    <tr>\n",
       "      <th>7</th>\n",
       "      <td>15.9</td>\n",
       "      <td>15.994277</td>\n",
       "    </tr>\n",
       "    <tr>\n",
       "      <th>8</th>\n",
       "      <td>11.6</td>\n",
       "      <td>12.490363</td>\n",
       "    </tr>\n",
       "    <tr>\n",
       "      <th>9</th>\n",
       "      <td>12.2</td>\n",
       "      <td>13.018429</td>\n",
       "    </tr>\n",
       "    <tr>\n",
       "      <th>10</th>\n",
       "      <td>8.6</td>\n",
       "      <td>9.164976</td>\n",
       "    </tr>\n",
       "    <tr>\n",
       "      <th>11</th>\n",
       "      <td>8.1</td>\n",
       "      <td>7.995891</td>\n",
       "    </tr>\n",
       "    <tr>\n",
       "      <th>12</th>\n",
       "      <td>11.7</td>\n",
       "      <td>12.301638</td>\n",
       "    </tr>\n",
       "    <tr>\n",
       "      <th>13</th>\n",
       "      <td>12.0</td>\n",
       "      <td>12.036426</td>\n",
       "    </tr>\n",
       "    <tr>\n",
       "      <th>14</th>\n",
       "      <td>13.3</td>\n",
       "      <td>13.606221</td>\n",
       "    </tr>\n",
       "    <tr>\n",
       "      <th>15</th>\n",
       "      <td>12.9</td>\n",
       "      <td>13.152320</td>\n",
       "    </tr>\n",
       "    <tr>\n",
       "      <th>16</th>\n",
       "      <td>13.6</td>\n",
       "      <td>13.700373</td>\n",
       "    </tr>\n",
       "    <tr>\n",
       "      <th>17</th>\n",
       "      <td>19.0</td>\n",
       "      <td>18.702785</td>\n",
       "    </tr>\n",
       "    <tr>\n",
       "      <th>18</th>\n",
       "      <td>9.7</td>\n",
       "      <td>9.801713</td>\n",
       "    </tr>\n",
       "    <tr>\n",
       "      <th>19</th>\n",
       "      <td>6.6</td>\n",
       "      <td>7.153604</td>\n",
       "    </tr>\n",
       "    <tr>\n",
       "      <th>20</th>\n",
       "      <td>9.5</td>\n",
       "      <td>7.964634</td>\n",
       "    </tr>\n",
       "    <tr>\n",
       "      <th>21</th>\n",
       "      <td>22.3</td>\n",
       "      <td>22.333717</td>\n",
       "    </tr>\n",
       "    <tr>\n",
       "      <th>22</th>\n",
       "      <td>5.6</td>\n",
       "      <td>6.532922</td>\n",
       "    </tr>\n",
       "    <tr>\n",
       "      <th>23</th>\n",
       "      <td>18.0</td>\n",
       "      <td>17.653182</td>\n",
       "    </tr>\n",
       "    <tr>\n",
       "      <th>24</th>\n",
       "      <td>11.9</td>\n",
       "      <td>12.256383</td>\n",
       "    </tr>\n",
       "    <tr>\n",
       "      <th>25</th>\n",
       "      <td>15.5</td>\n",
       "      <td>15.461607</td>\n",
       "    </tr>\n",
       "    <tr>\n",
       "      <th>26</th>\n",
       "      <td>14.6</td>\n",
       "      <td>14.938762</td>\n",
       "    </tr>\n",
       "    <tr>\n",
       "      <th>27</th>\n",
       "      <td>14.7</td>\n",
       "      <td>15.169267</td>\n",
       "    </tr>\n",
       "    <tr>\n",
       "      <th>28</th>\n",
       "      <td>7.2</td>\n",
       "      <td>7.254330</td>\n",
       "    </tr>\n",
       "    <tr>\n",
       "      <th>29</th>\n",
       "      <td>9.6</td>\n",
       "      <td>9.489446</td>\n",
       "    </tr>\n",
       "    <tr>\n",
       "      <th>30</th>\n",
       "      <td>12.4</td>\n",
       "      <td>12.102805</td>\n",
       "    </tr>\n",
       "    <tr>\n",
       "      <th>31</th>\n",
       "      <td>11.0</td>\n",
       "      <td>11.249000</td>\n",
       "    </tr>\n",
       "    <tr>\n",
       "      <th>32</th>\n",
       "      <td>9.7</td>\n",
       "      <td>9.521054</td>\n",
       "    </tr>\n",
       "    <tr>\n",
       "      <th>33</th>\n",
       "      <td>10.6</td>\n",
       "      <td>10.696848</td>\n",
       "    </tr>\n",
       "    <tr>\n",
       "      <th>34</th>\n",
       "      <td>9.7</td>\n",
       "      <td>10.550228</td>\n",
       "    </tr>\n",
       "    <tr>\n",
       "      <th>35</th>\n",
       "      <td>11.8</td>\n",
       "      <td>11.981757</td>\n",
       "    </tr>\n",
       "    <tr>\n",
       "      <th>36</th>\n",
       "      <td>4.8</td>\n",
       "      <td>4.230254</td>\n",
       "    </tr>\n",
       "    <tr>\n",
       "      <th>37</th>\n",
       "      <td>25.4</td>\n",
       "      <td>25.495426</td>\n",
       "    </tr>\n",
       "    <tr>\n",
       "      <th>38</th>\n",
       "      <td>9.3</td>\n",
       "      <td>9.060667</td>\n",
       "    </tr>\n",
       "    <tr>\n",
       "      <th>39</th>\n",
       "      <td>27.0</td>\n",
       "      <td>27.583819</td>\n",
       "    </tr>\n",
       "    <tr>\n",
       "      <th>40</th>\n",
       "      <td>18.4</td>\n",
       "      <td>18.167873</td>\n",
       "    </tr>\n",
       "    <tr>\n",
       "      <th>41</th>\n",
       "      <td>20.1</td>\n",
       "      <td>19.403040</td>\n",
       "    </tr>\n",
       "    <tr>\n",
       "      <th>42</th>\n",
       "      <td>10.1</td>\n",
       "      <td>9.707777</td>\n",
       "    </tr>\n",
       "    <tr>\n",
       "      <th>43</th>\n",
       "      <td>10.6</td>\n",
       "      <td>11.290650</td>\n",
       "    </tr>\n",
       "    <tr>\n",
       "      <th>44</th>\n",
       "      <td>18.0</td>\n",
       "      <td>18.042613</td>\n",
       "    </tr>\n",
       "    <tr>\n",
       "      <th>45</th>\n",
       "      <td>17.4</td>\n",
       "      <td>17.184362</td>\n",
       "    </tr>\n",
       "    <tr>\n",
       "      <th>46</th>\n",
       "      <td>18.9</td>\n",
       "      <td>18.862554</td>\n",
       "    </tr>\n",
       "    <tr>\n",
       "      <th>47</th>\n",
       "      <td>10.6</td>\n",
       "      <td>10.908730</td>\n",
       "    </tr>\n",
       "    <tr>\n",
       "      <th>48</th>\n",
       "      <td>11.2</td>\n",
       "      <td>11.059748</td>\n",
       "    </tr>\n",
       "    <tr>\n",
       "      <th>49</th>\n",
       "      <td>9.4</td>\n",
       "      <td>8.762457</td>\n",
       "    </tr>\n",
       "    <tr>\n",
       "      <th>50</th>\n",
       "      <td>9.7</td>\n",
       "      <td>10.018696</td>\n",
       "    </tr>\n",
       "    <tr>\n",
       "      <th>51</th>\n",
       "      <td>11.7</td>\n",
       "      <td>12.134760</td>\n",
       "    </tr>\n",
       "    <tr>\n",
       "      <th>52</th>\n",
       "      <td>13.2</td>\n",
       "      <td>13.061816</td>\n",
       "    </tr>\n",
       "    <tr>\n",
       "      <th>53</th>\n",
       "      <td>10.9</td>\n",
       "      <td>10.380567</td>\n",
       "    </tr>\n",
       "    <tr>\n",
       "      <th>54</th>\n",
       "      <td>11.7</td>\n",
       "      <td>11.997113</td>\n",
       "    </tr>\n",
       "    <tr>\n",
       "      <th>55</th>\n",
       "      <td>11.0</td>\n",
       "      <td>11.133482</td>\n",
       "    </tr>\n",
       "    <tr>\n",
       "      <th>56</th>\n",
       "      <td>8.5</td>\n",
       "      <td>8.103837</td>\n",
       "    </tr>\n",
       "    <tr>\n",
       "      <th>57</th>\n",
       "      <td>24.7</td>\n",
       "      <td>25.066744</td>\n",
       "    </tr>\n",
       "    <tr>\n",
       "      <th>58</th>\n",
       "      <td>11.5</td>\n",
       "      <td>11.935344</td>\n",
       "    </tr>\n",
       "    <tr>\n",
       "      <th>59</th>\n",
       "      <td>18.9</td>\n",
       "      <td>18.570996</td>\n",
       "    </tr>\n",
       "  </tbody>\n",
       "</table>\n",
       "</div>"
      ],
      "text/plain": [
       "    Original  Predicted\n",
       "0       25.4  25.446268\n",
       "1       16.7  17.412092\n",
       "2        7.3   7.428985\n",
       "3       13.2  13.212983\n",
       "4       11.8  12.090235\n",
       "5       14.5  14.874209\n",
       "6       12.9  12.997396\n",
       "7       15.9  15.994277\n",
       "8       11.6  12.490363\n",
       "9       12.2  13.018429\n",
       "10       8.6   9.164976\n",
       "11       8.1   7.995891\n",
       "12      11.7  12.301638\n",
       "13      12.0  12.036426\n",
       "14      13.3  13.606221\n",
       "15      12.9  13.152320\n",
       "16      13.6  13.700373\n",
       "17      19.0  18.702785\n",
       "18       9.7   9.801713\n",
       "19       6.6   7.153604\n",
       "20       9.5   7.964634\n",
       "21      22.3  22.333717\n",
       "22       5.6   6.532922\n",
       "23      18.0  17.653182\n",
       "24      11.9  12.256383\n",
       "25      15.5  15.461607\n",
       "26      14.6  14.938762\n",
       "27      14.7  15.169267\n",
       "28       7.2   7.254330\n",
       "29       9.6   9.489446\n",
       "30      12.4  12.102805\n",
       "31      11.0  11.249000\n",
       "32       9.7   9.521054\n",
       "33      10.6  10.696848\n",
       "34       9.7  10.550228\n",
       "35      11.8  11.981757\n",
       "36       4.8   4.230254\n",
       "37      25.4  25.495426\n",
       "38       9.3   9.060667\n",
       "39      27.0  27.583819\n",
       "40      18.4  18.167873\n",
       "41      20.1  19.403040\n",
       "42      10.1   9.707777\n",
       "43      10.6  11.290650\n",
       "44      18.0  18.042613\n",
       "45      17.4  17.184362\n",
       "46      18.9  18.862554\n",
       "47      10.6  10.908730\n",
       "48      11.2  11.059748\n",
       "49       9.4   8.762457\n",
       "50       9.7  10.018696\n",
       "51      11.7  12.134760\n",
       "52      13.2  13.061816\n",
       "53      10.9  10.380567\n",
       "54      11.7  11.997113\n",
       "55      11.0  11.133482\n",
       "56       8.5   8.103837\n",
       "57      24.7  25.066744\n",
       "58      11.5  11.935344\n",
       "59      18.9  18.570996"
      ]
     },
     "execution_count": 167,
     "metadata": {},
     "output_type": "execute_result"
    }
   ],
   "source": [
    "# Testing the saved model\n",
    "import numpy as np\n",
    "a = np.array(y_test)\n",
    "predicted = np.array(svr.predict(x_test))\n",
    "df_com = pd.DataFrame({'Original':a,'Predicted':predicted},index = range(len(a)))\n",
    "df_com"
   ]
  },
  {
   "cell_type": "code",
   "execution_count": null,
   "id": "64b5f296",
   "metadata": {},
   "outputs": [],
   "source": []
  }
 ],
 "metadata": {
  "kernelspec": {
   "display_name": "Python 3 (ipykernel)",
   "language": "python",
   "name": "python3"
  },
  "language_info": {
   "codemirror_mode": {
    "name": "ipython",
    "version": 3
   },
   "file_extension": ".py",
   "mimetype": "text/x-python",
   "name": "python",
   "nbconvert_exporter": "python",
   "pygments_lexer": "ipython3",
   "version": "3.9.7"
  }
 },
 "nbformat": 4,
 "nbformat_minor": 5
}
